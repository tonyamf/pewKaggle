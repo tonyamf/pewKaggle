{
  "nbformat": 4,
  "nbformat_minor": 0,
  "metadata": {
    "accelerator": "GPU",
    "colab": {
      "name": "Copy of fixres",
      "provenance": [],
      "collapsed_sections": []
    },
    "kernelspec": {
      "display_name": "Python 3",
      "language": "python",
      "name": "python3"
    },
    "language_info": {
      "codemirror_mode": {
        "name": "ipython",
        "version": 3
      },
      "file_extension": ".py",
      "mimetype": "text/x-python",
      "name": "python",
      "nbconvert_exporter": "python",
      "pygments_lexer": "ipython3",
      "version": "3.7.0"
    }
  },
  "cells": [
    {
      "cell_type": "markdown",
      "metadata": {
        "id": "uBOGLqaj2f2j"
      },
      "source": [
        "## Imports"
      ]
    },
    {
      "cell_type": "code",
      "metadata": {
        "colab": {
          "base_uri": "https://localhost:8080/"
        },
        "id": "Tcw1J7UR1X9F",
        "outputId": "6e581904-5c05-466e-d0ee-c2f188bbb941"
      },
      "source": [
        "# pip install -U tensorflow-addons\n",
        "!pip install -q tf-models-official tensorflow-addons\n",
        "!pip install image-quality"
      ],
      "execution_count": 1,
      "outputs": [
        {
          "output_type": "stream",
          "name": "stdout",
          "text": [
            "Requirement already satisfied: image-quality in /usr/local/lib/python3.7/dist-packages (1.2.7)\n",
            "Requirement already satisfied: Pillow>=5.2.0 in /usr/local/lib/python3.7/dist-packages (from image-quality) (7.1.2)\n",
            "Requirement already satisfied: scikit-image>=0.15.0 in /usr/local/lib/python3.7/dist-packages (from image-quality) (0.18.3)\n",
            "Requirement already satisfied: numpy>=1.16.4 in /usr/local/lib/python3.7/dist-packages (from image-quality) (1.19.5)\n",
            "Requirement already satisfied: scipy>=1.3.0 in /usr/local/lib/python3.7/dist-packages (from image-quality) (1.4.1)\n",
            "Requirement already satisfied: libsvm>=3.23.0 in /usr/local/lib/python3.7/dist-packages (from image-quality) (3.23.0.4)\n",
            "Requirement already satisfied: matplotlib!=3.0.0,>=2.0.0 in /usr/local/lib/python3.7/dist-packages (from scikit-image>=0.15.0->image-quality) (3.2.2)\n",
            "Requirement already satisfied: PyWavelets>=1.1.1 in /usr/local/lib/python3.7/dist-packages (from scikit-image>=0.15.0->image-quality) (1.2.0)\n",
            "Requirement already satisfied: imageio>=2.3.0 in /usr/local/lib/python3.7/dist-packages (from scikit-image>=0.15.0->image-quality) (2.4.1)\n",
            "Requirement already satisfied: networkx>=2.0 in /usr/local/lib/python3.7/dist-packages (from scikit-image>=0.15.0->image-quality) (2.6.3)\n",
            "Requirement already satisfied: tifffile>=2019.7.26 in /usr/local/lib/python3.7/dist-packages (from scikit-image>=0.15.0->image-quality) (2021.11.2)\n",
            "Requirement already satisfied: python-dateutil>=2.1 in /usr/local/lib/python3.7/dist-packages (from matplotlib!=3.0.0,>=2.0.0->scikit-image>=0.15.0->image-quality) (2.8.2)\n",
            "Requirement already satisfied: pyparsing!=2.0.4,!=2.1.2,!=2.1.6,>=2.0.1 in /usr/local/lib/python3.7/dist-packages (from matplotlib!=3.0.0,>=2.0.0->scikit-image>=0.15.0->image-quality) (3.0.6)\n",
            "Requirement already satisfied: kiwisolver>=1.0.1 in /usr/local/lib/python3.7/dist-packages (from matplotlib!=3.0.0,>=2.0.0->scikit-image>=0.15.0->image-quality) (1.3.2)\n",
            "Requirement already satisfied: cycler>=0.10 in /usr/local/lib/python3.7/dist-packages (from matplotlib!=3.0.0,>=2.0.0->scikit-image>=0.15.0->image-quality) (0.11.0)\n",
            "Requirement already satisfied: six>=1.5 in /usr/local/lib/python3.7/dist-packages (from python-dateutil>=2.1->matplotlib!=3.0.0,>=2.0.0->scikit-image>=0.15.0->image-quality) (1.15.0)\n"
          ]
        }
      ]
    },
    {
      "cell_type": "code",
      "metadata": {
        "cellView": "form",
        "id": "qCbs0TOq2f2l"
      },
      "source": [
        "#@title Import\n",
        "from tensorflow import keras\n",
        "import numpy as np\n",
        "\n",
        "from tensorflow.keras import layers\n",
        "import tensorflow as tf\n",
        "from tensorflow.keras.applications.vgg16 import preprocess_input\n",
        "import pandas as pd\n",
        "from sklearn.model_selection import train_test_split\n",
        "from tensorflow.keras.preprocessing import image\n",
        "import matplotlib.pyplot as plt\n",
        "import tensorflow as tf\n",
        "from tensorflow import keras\n",
        "from skimage import io, feature\n",
        "from tensorflow.keras import layers\n",
        "from skimage.feature import local_binary_pattern\n",
        "from skimage.color import rgb2gray\n",
        "import PIL\n",
        "from PIL import Image\n",
        "from official.vision.image_classification.augment import RandAugment\n",
        "\n",
        "from imutils import build_montages\n",
        "from imutils import paths\n",
        "import numpy as np\n",
        "import argparse\n",
        "import imutils\n",
        "import cv2\n",
        "import imquality.brisque as brisque\n",
        "from skimage.transform import rescale, resize, downscale_local_mean\n",
        "import gc\n",
        "import multiprocessing\n",
        "\n",
        "# import tensorflow_addons as tfa"
      ],
      "execution_count": 2,
      "outputs": []
    },
    {
      "cell_type": "markdown",
      "metadata": {
        "id": "iCEsT8BE2f2o"
      },
      "source": [
        "## Load the  dataset"
      ]
    },
    {
      "cell_type": "code",
      "metadata": {
        "colab": {
          "base_uri": "https://localhost:8080/"
        },
        "id": "xZIfHth7ZgTo",
        "outputId": "a40a1c27-8400-493b-b745-c20fd4bc044a"
      },
      "source": [
        "from google.colab import drive\n",
        "drive.mount('/content/drive')"
      ],
      "execution_count": 3,
      "outputs": [
        {
          "output_type": "stream",
          "name": "stdout",
          "text": [
            "Drive already mounted at /content/drive; to attempt to forcibly remount, call drive.mount(\"/content/drive\", force_remount=True).\n"
          ]
        }
      ]
    },
    {
      "cell_type": "code",
      "metadata": {
        "colab": {
          "base_uri": "https://localhost:8080/"
        },
        "id": "rX6mEPsXZsKf",
        "outputId": "683b810c-8770-4f64-b86e-d53cae9e93ab"
      },
      "source": [
        "%cd /content/drive/MyDrive/Colab\\ Notebooks"
      ],
      "execution_count": 4,
      "outputs": [
        {
          "output_type": "stream",
          "name": "stdout",
          "text": [
            "/content/drive/MyDrive/Colab Notebooks\n"
          ]
        }
      ]
    },
    {
      "cell_type": "code",
      "metadata": {
        "colab": {
          "base_uri": "https://localhost:8080/"
        },
        "id": "BQc2dzql2f2p",
        "outputId": "3ece1cc5-9f29-4ce4-868a-33f48b545164"
      },
      "source": [
        "train_csv = pd.read_csv('petfinder-pawpularity-score/train.csv')\n",
        "test_csv = pd.read_csv('petfinder-pawpularity-score/test.csv')\n",
        "result_csv = pd.read_csv('petfinder-pawpularity-score/sample_submission.csv')\n",
        "\n",
        "print(f\"Number of training examples: {len(train_csv)}\")\n",
        "print(f\"Number of validation examples: {len(test_csv)}\")"
      ],
      "execution_count": 5,
      "outputs": [
        {
          "output_type": "stream",
          "name": "stdout",
          "text": [
            "Number of training examples: 9912\n",
            "Number of validation examples: 8\n"
          ]
        }
      ]
    },
    {
      "cell_type": "code",
      "metadata": {
        "id": "bMEBQqmHcVqZ"
      },
      "source": [
        "def convert(array):\n",
        "  m = \"\"\n",
        "  for i in array:\n",
        "    m += str(i)\n",
        "    # print(i, end=\"\")\n",
        "  return m"
      ],
      "execution_count": 6,
      "outputs": []
    },
    {
      "cell_type": "code",
      "metadata": {
        "id": "TGkrJTj-k3fa"
      },
      "source": [
        "dir_train = \"petfinder-pawpularity-score/train/\"\n",
        "dir_test = \"petfinder-pawpularity-score/test/\"\n",
        "img_type = \".jpg\""
      ],
      "execution_count": 7,
      "outputs": []
    },
    {
      "cell_type": "markdown",
      "metadata": {
        "id": "6iTzZq_G2f2q"
      },
      "source": [
        "## Data preprocessing utilities"
      ]
    },
    {
      "cell_type": "code",
      "metadata": {
        "id": "rqIJ5mGmMpe5"
      },
      "source": [
        "def image_colorfulness(image):\n",
        "\t# split the image into its respective RGB components\n",
        "\t(B, G, R) = cv2.split(image.astype(\"float\"))\n",
        "\t# compute rg = R - G\n",
        "\trg = np.absolute(R - G)\n",
        "\t# compute yb = 0.5 * (R + G) - B\n",
        "\tyb = np.absolute(0.5 * (R + G) - B)\n",
        "\t# compute the mean and standard deviation of both `rg` and `yb`\n",
        "\t(rbMean, rbStd) = (np.mean(rg), np.std(rg))\n",
        "\t(ybMean, ybStd) = (np.mean(yb), np.std(yb))\n",
        "\t# combine the mean and standard deviations\n",
        "\tstdRoot = np.sqrt((rbStd ** 2) + (ybStd ** 2))\n",
        "\tmeanRoot = np.sqrt((rbMean ** 2) + (ybMean ** 2))\n",
        "\t# derive the \"colorfulness\" metric and return it\n",
        "\treturn stdRoot + (0.3 * meanRoot)"
      ],
      "execution_count": 8,
      "outputs": []
    },
    {
      "cell_type": "code",
      "metadata": {
        "id": "Xtn8ls0BPM_K"
      },
      "source": [
        "def calculate_brightness(image):\n",
        "    # greyscale_image = image.convert('L')\n",
        "    histogram = image.histogram()\n",
        "    pixels = sum(histogram)\n",
        "    brightness = scale = len(histogram)\n",
        "\n",
        "    for index in range(0, scale):\n",
        "        ratio = histogram[index] / pixels\n",
        "        brightness += ratio * (-scale + index)\n",
        "\n",
        "    return 1 if brightness == 255 else brightness / scale"
      ],
      "execution_count": 9,
      "outputs": []
    },
    {
      "cell_type": "code",
      "metadata": {
        "id": "lJettvPnFy56"
      },
      "source": [
        "def tenengrad(img, ksize=3):\n",
        "    ''''TENG' algorithm (Krotkov86)'''\n",
        "    Gx = cv2.Sobel(img, ddepth=cv2.CV_64F, dx=1, dy=0, ksize=ksize)\n",
        "    Gy = cv2.Sobel(img, ddepth=cv2.CV_64F, dx=0, dy=1, ksize=ksize)\n",
        "    FM = Gx**2 + Gy**2\n",
        "    return cv2.mean(FM)[0]"
      ],
      "execution_count": 10,
      "outputs": []
    },
    {
      "cell_type": "code",
      "metadata": {
        "id": "U5g3sXvfWAVo"
      },
      "source": [
        "def variance_of_laplacian(image):\n",
        "\t# compute the Laplacian of the image and then return the focus\n",
        "\t# measure, which is simply the variance of the Laplacian\n",
        "\treturn cv2.Laplacian(image, cv2.CV_64F).var()"
      ],
      "execution_count": 11,
      "outputs": []
    },
    {
      "cell_type": "code",
      "metadata": {
        "colab": {
          "base_uri": "https://localhost:8080/"
        },
        "id": "PQs2HvdUvH5e",
        "outputId": "64beaa2e-a555-4f08-ca27-68cad51cd7a6"
      },
      "source": [
        "model = tf.keras.applications.EfficientNetB0(weights='imagenet', include_top=False)\n",
        "feature_model = tf.keras.Sequential()\n",
        "feature_model.add(model)\n",
        "feature_model.add(tf.keras.layers.Flatten())\n",
        "feature_model.summary()"
      ],
      "execution_count": 12,
      "outputs": [
        {
          "output_type": "stream",
          "name": "stdout",
          "text": [
            "Model: \"sequential\"\n",
            "_________________________________________________________________\n",
            " Layer (type)                Output Shape              Param #   \n",
            "=================================================================\n",
            " efficientnetb0 (Functional)  (None, None, None, 1280)  4049571  \n",
            "                                                                 \n",
            " flatten (Flatten)           (None, None)              0         \n",
            "                                                                 \n",
            "=================================================================\n",
            "Total params: 4,049,571\n",
            "Trainable params: 4,007,548\n",
            "Non-trainable params: 42,023\n",
            "_________________________________________________________________\n"
          ]
        }
      ]
    },
    {
      "cell_type": "code",
      "metadata": {
        "id": "IZKvAuVXuIfd"
      },
      "source": [
        "Xtrain = []\n",
        "Ytrain = []\n",
        "Xtest = []\n",
        "Ytest = []"
      ],
      "execution_count": 13,
      "outputs": []
    },
    {
      "cell_type": "code",
      "metadata": {
        "id": "LSnuezt7taPY"
      },
      "source": [
        "def get_mix_data(row, dirctory=dir_train,   dfX=Xtrain):\n",
        "    # for i in range(len(row)):\n",
        "    # print(row)\n",
        "    # tab = #.to_numpy(dtype=\"float32\")\n",
        "    # if training ==True:\n",
        "    # target = row[ 13]\n",
        "    # else:\n",
        "    #   target = result[ 1]\n",
        "    # print(row)\n",
        "    # img_path =  \n",
        "    # img = Image.open(img_path)\n",
        "    imgA = io.imread(dirctory + row[ 0] + img_type)\n",
        "    # pyplot.imshow(img)\n",
        "    # print(target)\n",
        "    # print(tab)\n",
        "\n",
        "    \n",
        "    # img_data = \n",
        "    # samples = \n",
        "    # img_data = \n",
        "    # feature = get_feature_vgg16(samples)\n",
        "    # stat = PIL.ImageStat.Stat(img)\n",
        "    rest = np.append(imgA.shape, [imgA.std(),\n",
        "                    imgA.max(),\n",
        "                    imgA.mean(),\n",
        "                    imgA.min(), tenengrad(imgA), image_colorfulness(imgA)])\n",
        "    # rest = np.append(rest, stat.extrema)\n",
        "    imgA = resize(imgA, output_shape=(128, 128))\n",
        "    # rest = \n",
        "    # rest = np.append(rest, calculate_brightness(img)) \n",
        "    # rest = np.append(rest, image_colorfulness(imgA)) \n",
        "    # rest = np.append(rest, imgA.shape, tenengrad(imgA))\n",
        "    # if training == True:\n",
        "    # rest = \n",
        "    dfX.append(np.append(np.append(np.append(rest, local_binary_pattern(rgb2gray(imgA), 24, 3, \"uniform\")), feature_model.predict(preprocess_input(np.expand_dims(image.img_to_array(imgA), axis=0)))[0]), row[ 1:13]))\n",
        "    # dfY.append(np.array(row[ 13]))\n",
        "    \n",
        " \n",
        "        #     assemble_data(tab, feature, rest, target, Xtrain, Ytrain)\n",
        "        # else:\n",
        "        #     assemble_data(tab, feature, rest, target, Xtest, Ytest)\n",
        "\n",
        "        \n",
        "# def get_feature_vgg16(img_data):\n",
        "#     img_data = preprocess_input(img_data)\n",
        "#     vgg16_feature = feature_model.predict(img_data)\n",
        "#     return vgg16_feature\n",
        "\n",
        "# def assemble_data(tab, feature, target, rest, dfX, dfY):\n",
        "# #     pca = PCA(n_components=12)\n",
        "# #     pca.fit(feature)\n",
        "#     index = len(dfX) \n",
        "#     res = np.append(tab, feature)\n",
        "#     res = np.append(res, rest)\n",
        "#     dfX = dfX.append(res)\n",
        "#     dfY = dfY.append(np.array(target))"
      ],
      "execution_count": 14,
      "outputs": []
    },
    {
      "cell_type": "code",
      "metadata": {
        "colab": {
          "base_uri": "https://localhost:8080/"
        },
        "id": "8ObAoVdgBwRt",
        "outputId": "d1328e1c-ed84-497c-bf59-d4b085c71d72"
      },
      "source": [
        "len(Xtrain)"
      ],
      "execution_count": 15,
      "outputs": [
        {
          "output_type": "execute_result",
          "data": {
            "text/plain": [
              "0"
            ]
          },
          "metadata": {},
          "execution_count": 15
        }
      ]
    },
    {
      "cell_type": "code",
      "metadata": {
        "id": "scH6fb9mXltp"
      },
      "source": [
        "#  = list(map(get_mix_data, train_csv.values))\n",
        "# list(Xtrain)\n",
        "# Xtrain = [get_mix_data(row, dir_train, Xtrain) for row in train_csv.values]\n",
        "# get_mix_data(test_csv, result_csv, training=False)"
      ],
      "execution_count": null,
      "outputs": []
    },
    {
      "cell_type": "markdown",
      "metadata": {
        "id": "A62RJ_AAr75I"
      },
      "source": [
        "## New section"
      ]
    },
    {
      "cell_type": "code",
      "metadata": {
        "id": "scUhWu3ljgVk"
      },
      "source": [
        "column_i = range(2)\n",
        "column_t = range(13) \n",
        "df_IC = pd.DataFrame(columns = column_i)\n",
        "df_IR = pd.DataFrame(columns = column_i)"
      ],
      "execution_count": 17,
      "outputs": []
    },
    {
      "cell_type": "code",
      "metadata": {
        "id": "PCk-Bffaf77s"
      },
      "source": [
        "def get_data(csv, df_IC, df_IR):\n",
        "    # df_TR =csv.iloc[ 0:len(csv), 1:14]\n",
        "    for i in range(len(csv)):\n",
        "        df_IC.loc[i, 0] = dir_train + csv.iloc[ i, 0] + img_type\n",
        "        df_IC.loc[i, 1] = int(convert(train_csv.iloc[ i, 1:13]), 2)\n",
        "        df_IR.loc[i, 0] = dir_train + csv.iloc[ i, 0] + img_type\n",
        "        df_IR.loc[i, 1] = csv.iloc[ i, 13]\n",
        "        # if training ==True:\n",
        "        #   img_path =  dir_train + csv.iloc[ i, 0] + img_type"
      ],
      "execution_count": 18,
      "outputs": []
    },
    {
      "cell_type": "code",
      "metadata": {
        "id": "oCCw-m0uruT1"
      },
      "source": [
        "get_data(train_csv, df_IC, df_IR)"
      ],
      "execution_count": 19,
      "outputs": []
    },
    {
      "cell_type": "code",
      "metadata": {
        "id": "G-Fw3MVWOOkE"
      },
      "source": [
        "df_TR =train_csv.iloc[ 0:len(train_csv), 1:14]"
      ],
      "execution_count": 20,
      "outputs": []
    },
    {
      "cell_type": "code",
      "metadata": {
        "colab": {
          "base_uri": "https://localhost:8080/"
        },
        "id": "85CjNboROA6f",
        "outputId": "860d7fcc-1917-48cd-a81c-b701e4b033a5"
      },
      "source": [
        "df_IC[1] = pd.to_numeric(df_IC[1], errors='coerce').astype('Int32')\n",
        "df_IR[1] = pd.to_numeric(df_IR[1], errors='coerce').astype('Int32')\n",
        "\n",
        "\n",
        "print(df_IC.dtypes)\n",
        "print(df_IR.dtypes)\n",
        "print(df_TR.dtypes)"
      ],
      "execution_count": 21,
      "outputs": [
        {
          "output_type": "stream",
          "name": "stdout",
          "text": [
            "0    object\n",
            "1     Int32\n",
            "dtype: object\n",
            "0    object\n",
            "1     Int32\n",
            "dtype: object\n",
            "Subject Focus    int64\n",
            "Eyes             int64\n",
            "Face             int64\n",
            "Near             int64\n",
            "Action           int64\n",
            "Accessory        int64\n",
            "Group            int64\n",
            "Collage          int64\n",
            "Human            int64\n",
            "Occlusion        int64\n",
            "Info             int64\n",
            "Blur             int64\n",
            "Pawpularity      int64\n",
            "dtype: object\n"
          ]
        }
      ]
    },
    {
      "cell_type": "code",
      "metadata": {
        "id": "VBdlImpxnZrj"
      },
      "source": [
        "train_IC, test_IC = train_test_split(df_IC, train_size=0.8, shuffle=True, random_state=42)\n",
        "train_IR, test_IR = train_test_split(df_IR, train_size=0.8, shuffle=True, random_state=42)\n",
        "train_TR, test_TR = train_test_split(df_TR, train_size=0.8, shuffle=True, random_state=42)"
      ],
      "execution_count": 22,
      "outputs": []
    },
    {
      "cell_type": "markdown",
      "metadata": {
        "id": "jwEIp2GCOYC1"
      },
      "source": [
        "## Datasets"
      ]
    },
    {
      "cell_type": "code",
      "metadata": {
        "id": "EoJMoMcyv1WX"
      },
      "source": [
        "batch_size = 32\n",
        "smaller_size = 224\n",
        "TARGET_SIZE = (96 , 96)\n",
        "auto = tf.data.AUTOTUNE\n",
        "bigger_size = 320\n",
        "num_classes = 1 #4096\n",
        "size_for_resizing = int((bigger_size / smaller_size) * bigger_size)\n",
        "central_crop_layer = layers.CenterCrop(bigger_size, bigger_size)\n",
        "INTERPOLATION = \"bilinear\"\n",
        "augmenter = RandAugment(num_layers=2, magnitude=9)\n"
      ],
      "execution_count": 23,
      "outputs": []
    },
    {
      "cell_type": "markdown",
      "metadata": {
        "id": "BVbuOfGTsI2F"
      },
      "source": [
        ""
      ]
    },
    {
      "cell_type": "code",
      "metadata": {
        "id": "TKcW9ZU77vVc"
      },
      "source": [
        "def conv_block(x, filters, kernel_size, strides, activation=layers.LeakyReLU(0.2)):\n",
        "    x = layers.Conv2D(filters, kernel_size, strides, padding=\"same\", use_bias=False)(x)\n",
        "    x = layers.BatchNormalization()(x)\n",
        "    if activation:\n",
        "        x = activation(x)\n",
        "    return x\n",
        "\n",
        "\n",
        "def res_block(x):\n",
        "    inputs = x\n",
        "    x = conv_block(x, 16, 3, 1)\n",
        "    x = conv_block(x, 16, 3, 1, activation=None)\n",
        "    return layers.Add()([inputs, x])\n",
        "\n",
        "\n",
        "def get_learnable_resizer(filters=16, num_res_blocks=1, interpolation=INTERPOLATION):\n",
        "    #inputs = layers.Input(shape=[None, None, 3])\n",
        "    inputs = layers.Input((None, None, 3), name=\"input\")\n",
        "    # First, perform naive resizing.\n",
        "    naive_resize = layers.Resizing(\n",
        "        *TARGET_SIZE, interpolation=interpolation\n",
        "    )(inputs)\n",
        "\n",
        "    # First convolution block without batch normalization.\n",
        "    x = layers.Conv2D(filters=filters, kernel_size=7, strides=1, padding=\"same\")(inputs)\n",
        "    x = layers.LeakyReLU(0.2)(x)\n",
        "\n",
        "    # Second convolution block with batch normalization.\n",
        "    x = layers.Conv2D(filters=filters, kernel_size=1, strides=1, padding=\"same\")(x)\n",
        "    x = layers.LeakyReLU(0.2)(x)\n",
        "    x = layers.BatchNormalization()(x)\n",
        "\n",
        "    # Intermediate resizing as a bottleneck.\n",
        "    bottleneck = layers.Resizing(\n",
        "        *TARGET_SIZE, interpolation=interpolation\n",
        "    )(x)\n",
        "\n",
        "    # Residual passes.\n",
        "    for _ in range(num_res_blocks):\n",
        "        x = res_block(bottleneck)\n",
        "\n",
        "    # Projection.\n",
        "    x = layers.Conv2D(\n",
        "        filters=filters, kernel_size=3, strides=1, padding=\"same\", use_bias=False\n",
        "    )(x)\n",
        "    x = layers.BatchNormalization()(x)\n",
        "\n",
        "    # Skip connection.\n",
        "    x = layers.Add()([bottleneck, x])\n",
        "\n",
        "    # Final resized image.\n",
        "    x = layers.Conv2D(filters=3, kernel_size=7, strides=1, padding=\"same\")(x)\n",
        "    final_resize = layers.Add()([naive_resize, x])\n",
        "\n",
        "    return tf.keras.Model(inputs, final_resize, name=\"learnable_resizer\")\n",
        "\n",
        "\n",
        "learnable_resizer = get_learnable_resizer()"
      ],
      "execution_count": 24,
      "outputs": []
    },
    {
      "cell_type": "code",
      "metadata": {
        "id": "eMNcQWVdsJyp",
        "colab": {
          "base_uri": "https://localhost:8080/"
        },
        "outputId": "e4d6666b-16e2-46a4-cea5-3b0667731f91"
      },
      "source": [
        "from keras.utils.data_utils import get_file\n",
        "\n",
        "base_model = tf.keras.applications.MobileNet((None, None, 3), alpha=1, include_top=False)\n",
        "for layer in base_model.layers:\n",
        "    layer.trainable = False\n",
        "x = tf.keras.layers.Dropout(0.75)(base_model.output)\n",
        "x = tf.keras.layers.Dense(10, activation='softmax')(x)\n",
        "model = tf.keras.Model(base_model.input, x)\n",
        "\n",
        "# for layer in base_model.layers:\n",
        "#   print(layer.name)\n",
        "# print(base_model.summary())\n",
        "weights_path = get_file(\n",
        "            'weights_mobilenet_aesthetic_0.07.hdf5',\n",
        "            'https://github.com/idealo/image-quality-assessment/raw/master/models/MobileNet/weights_mobilenet_aesthetic_0.07.hdf5')\n",
        "model.load_weights(weights_path)\n",
        "\n",
        "model_eas = tf.keras.Model(model.input, model.get_layer(\"conv_pw_13_relu\").output)\n",
        "feature_eas = tf.keras.Sequential(name=\"feature_eas\")\n",
        "feature_eas.add(model_eas)\n",
        "feature_eas.add(tf.keras.layers.Flatten())\n",
        "print(feature_eas.summary())\n",
        "\n",
        "\n",
        "weights_path = get_file(\n",
        "            'weights_mobilenet_technical_0.11.hdf5',\n",
        "            'https://github.com/idealo/image-quality-assessment/raw/master/models/MobileNet/weights_mobilenet_technical_0.11.hdf5')\n",
        "model.load_weights(weights_path)\n",
        "\n",
        "model_tac = tf.keras.Model(model.input, model.get_layer(\"conv_pw_13_relu\").output)\n",
        "feature_tac = tf.keras.Sequential(name=\"feature_tac\")\n",
        "feature_tac.add(model_tac)\n",
        "feature_tac.add(tf.keras.layers.Flatten())\n",
        "print(feature_tac.summary())"
      ],
      "execution_count": 74,
      "outputs": [
        {
          "output_type": "stream",
          "name": "stdout",
          "text": [
            "WARNING:tensorflow:`input_shape` is undefined or non-square, or `rows` is not in [128, 160, 192, 224]. Weights for input shape (224, 224) will be loaded as the default.\n",
            "Model: \"feature_eas\"\n",
            "_________________________________________________________________\n",
            " Layer (type)                Output Shape              Param #   \n",
            "=================================================================\n",
            " model_7 (Functional)        (None, None, None, 1024)  3228864   \n",
            "                                                                 \n",
            " flatten_5 (Flatten)         (None, None)              0         \n",
            "                                                                 \n",
            "=================================================================\n",
            "Total params: 3,228,864\n",
            "Trainable params: 0\n",
            "Non-trainable params: 3,228,864\n",
            "_________________________________________________________________\n",
            "None\n",
            "Model: \"feature_tac\"\n",
            "_________________________________________________________________\n",
            " Layer (type)                Output Shape              Param #   \n",
            "=================================================================\n",
            " model_8 (Functional)        (None, None, None, 1024)  3228864   \n",
            "                                                                 \n",
            " flatten_6 (Flatten)         (None, None)              0         \n",
            "                                                                 \n",
            "=================================================================\n",
            "Total params: 3,228,864\n",
            "Trainable params: 0\n",
            "Non-trainable params: 3,228,864\n",
            "_________________________________________________________________\n",
            "None\n"
          ]
        }
      ]
    },
    {
      "cell_type": "code",
      "metadata": {
        "id": "oUyVINu1k4_F"
      },
      "source": [
        "# Reference: https://github.com/facebookresearch/FixRes/blob/main/transforms_v2.py.\n",
        "\n",
        "\n",
        "\n",
        "def preprocess_initial(train, image_size):\n",
        "\n",
        "    def _pp(image, label, train):\n",
        "        img = tf.io.read_file(image[\"input_1\"])\n",
        "        image = tf.image.decode_jpeg(img, channels=3)\n",
        "\n",
        "        # image = tf.convert_to_tensor(image)\n",
        "        # \n",
        "        # print(image[\"input_2\"])\n",
        "        if train:\n",
        "          image = augmenter.distort(image)\n",
        "        #   image = layers.RandomZoom(\n",
        "        #     height_factor=0.2, width_factor=0.2\n",
        "        # )(image)\n",
        "        #     channels = image.shape[-1]\n",
        "        #     begin, size, _ = tf.image.sample_distorted_bounding_box(\n",
        "        #         tf.shape(image),\n",
        "        #         tf.zeros([0, 0, 4], tf.float32),\n",
        "        #         area_range=(0.05, 1.0),\n",
        "        #         min_object_covered=0,\n",
        "        #         use_image_if_no_bounding_boxes=True,\n",
        "        #     )\n",
        "        #     image = tf.slice(image, begin, size)\n",
        "\n",
        "        #     image.set_shape([None, None, channels])\n",
        "        #     image = tf.image.resize(image, [image_size, image_size])\n",
        "        #     # image = tf.image.random_flip_left_right(image)\n",
        "        # else:\n",
        "        image = tf.image.resize(image, [image_size, image_size])\n",
        "        image = layers.Rescaling(scale=1.0 / 255)(image)\n",
        "        x = layers.Rescaling(scale=1.0 / 255)(image)\n",
        "        # # y = feature_tac(x)\n",
        "        # # z = feature_tac(x)\n",
        "        # x = np.append(np.append(y, z), )\n",
        "        # label_2 = tf.raw_ops.OneHot(indices=label['out_2'], depth=4096, on_value=1.0, off_value=0)\n",
        "        # label_2 = tf.cast(label_2, dtype='float32')\n",
        "\n",
        "        return {image, tf.convert_to_tensor(image[\"input_2\"])}, label\n",
        "\n",
        "    return _pp\n",
        "\n",
        "\n",
        "def preprocess_finetune(image, label, train):\n",
        "    \"\"\"Preprocessing function for fine-tuning on a higher resolution.\n",
        "\n",
        "    For training, resize to a bigger resolution to maintain the ratio ->\n",
        "        random_horizontal_flip -> center_crop.\n",
        "    For validation, do the same without any horizontal flipping.\n",
        "    No color-jittering has been used.\n",
        "    \"\"\"\n",
        "    img = tf.io.read_file(image)\n",
        "    image = tf.image.decode_jpeg(img, channels=3)\n",
        "    image = tf.image.resize(image, [size_for_resizing, size_for_resizing])\n",
        "    # if train:\n",
        "    #     image = tf.image.random_flip_left_right(image)\n",
        "    image = central_crop_layer(image[None, ...])[0]\n",
        "\n",
        "    return image, label\n",
        "\n",
        "\n",
        "def make_dataset(\n",
        "    dataset: tf.data.Dataset,\n",
        "    train: bool,\n",
        "    image_size: int = smaller_size,\n",
        "    fixres: bool = True,\n",
        "    num_parallel_calls=auto,\n",
        "):\n",
        "    if image_size not in [smaller_size, bigger_size]:\n",
        "        raise ValueError(f\"{image_size} resolution is not supported.\")\n",
        "\n",
        "    # Determine which preprocessing function we are using.\n",
        "    if image_size == smaller_size:\n",
        "        preprocess_func = preprocess_initial(train, image_size)\n",
        "    elif not fixres and image_size == bigger_size:\n",
        "        preprocess_func = preprocess_initial(train, image_size)\n",
        "    else:\n",
        "        preprocess_func = preprocess_finetune\n",
        "\n",
        "    # if train:\n",
        "    #     dataset = dataset.shuffle(batch_size * 10)\n",
        "\n",
        "    return (\n",
        "        # tf.data.Dataset.from_tensor_slices((dataset[0].values, np.array(dataset[0:len(dataset)][1], dtype='int32')))\n",
        "        tf.data.Dataset.from_tensor_slices(( {\"input_1\": dataset[\"data_1\"][0].values, \"ïnput_2\": dataset[\"data_2\"].values}, np.array(dataset[\"data_1\"][0:len(dataset[\"data_1\"])][1], dtype='int32') ))\n",
        "        .map(\n",
        "            lambda x, y: preprocess_func(x, y, train),\n",
        "            num_parallel_calls=num_parallel_calls,\n",
        "        )\n",
        "        .batch(batch_size)\n",
        "        .shuffle(buffer_size=500)\n",
        "        .prefetch(num_parallel_calls)\n",
        "    )\n"
      ],
      "execution_count": 80,
      "outputs": []
    },
    {
      "cell_type": "markdown",
      "metadata": {
        "id": "PqdNCwOB2f2x"
      },
      "source": [
        "## Prepare datasets"
      ]
    },
    {
      "cell_type": "code",
      "metadata": {
        "id": "BV_fwvani3Eh"
      },
      "source": [
        "train_TR = train_TR.iloc[0:len(train_TR),0:11]"
      ],
      "execution_count": 27,
      "outputs": []
    },
    {
      "cell_type": "code",
      "metadata": {
        "id": "OKVSuCpQA5UV"
      },
      "source": [
        "train_TR.values)"
      ],
      "execution_count": null,
      "outputs": []
    },
    {
      "cell_type": "code",
      "metadata": {
        "id": "oQkp2kjAFcZy"
      },
      "source": [
        "x = tf.Variable([1.0,2.0,3.0])\n",
        "i = tf.Variable([1], dtype = tf.int64) \n",
        "tf.gather(x)"
      ],
      "execution_count": null,
      "outputs": []
    },
    {
      "cell_type": "code",
      "metadata": {
        "colab": {
          "base_uri": "https://localhost:8080/"
        },
        "id": "CGLYrZ7C1iBK",
        "outputId": "05dbef44-8454-47b2-885f-3ec1d0564b4f"
      },
      "source": [
        "train_TR[0:len(train_TR)],dtype='int32'"
      ],
      "execution_count": 29,
      "outputs": [
        {
          "output_type": "execute_result",
          "data": {
            "text/plain": [
              "array([[0, 1, 1, ..., 0, 0, 0],\n",
              "       [0, 1, 1, ..., 0, 0, 0],\n",
              "       [0, 1, 1, ..., 0, 0, 0],\n",
              "       ...,\n",
              "       [0, 1, 1, ..., 0, 0, 0],\n",
              "       [0, 1, 1, ..., 1, 0, 0],\n",
              "       [0, 1, 1, ..., 0, 0, 0]], dtype=int32)"
            ]
          },
          "metadata": {},
          "execution_count": 29
        }
      ]
    },
    {
      "cell_type": "code",
      "metadata": {
        "id": "sP3SKUC32f2y",
        "colab": {
          "base_uri": "https://localhost:8080/",
          "height": 512
        },
        "outputId": "630596d1-7858-4509-a819-a4cd53ddc3e3"
      },
      "source": [
        "initial_train_dataset = make_dataset(dataset ={\"data_1\": train_IR, \"data_2\": train_TR}, train=True, image_size=smaller_size)\n",
        "initial_val_dataset = make_dataset(dataset ={\"data_1\": test_IR, \"data_2\": test_TR}, train=False, image_size=smaller_size)\n",
        "\n",
        "# finetune_train_dataset = make_dataset(train_dataset, train=True, image_size=bigger_size)\n",
        "# finetune_val_dataset = make_dataset(val_dataset, train=False, image_size=bigger_size)\n",
        "\n",
        "# vanilla_train_dataset = make_dataset(\n",
        "#     train_dataset, train=True, image_size=bigger_size, fixres=False\n",
        "# )\n",
        "# vanilla_val_dataset = make_dataset(\n",
        "#     val_dataset, train=False, image_size=bigger_size, fixres=False\n",
        "# )"
      ],
      "execution_count": 81,
      "outputs": [
        {
          "output_type": "error",
          "ename": "TypeError",
          "evalue": "ignored",
          "traceback": [
            "\u001b[0;31m---------------------------------------------------------------------------\u001b[0m",
            "\u001b[0;31mTypeError\u001b[0m                                 Traceback (most recent call last)",
            "\u001b[0;32m<ipython-input-81-43fa85a5113c>\u001b[0m in \u001b[0;36m<module>\u001b[0;34m()\u001b[0m\n\u001b[0;32m----> 1\u001b[0;31m \u001b[0minitial_train_dataset\u001b[0m \u001b[0;34m=\u001b[0m \u001b[0mmake_dataset\u001b[0m\u001b[0;34m(\u001b[0m\u001b[0mdataset\u001b[0m \u001b[0;34m=\u001b[0m\u001b[0;34m{\u001b[0m\u001b[0;34m\"data_1\"\u001b[0m\u001b[0;34m:\u001b[0m \u001b[0mtrain_IR\u001b[0m\u001b[0;34m,\u001b[0m \u001b[0;34m\"data_2\"\u001b[0m\u001b[0;34m:\u001b[0m \u001b[0mtrain_TR\u001b[0m\u001b[0;34m}\u001b[0m\u001b[0;34m,\u001b[0m \u001b[0mtrain\u001b[0m\u001b[0;34m=\u001b[0m\u001b[0;32mTrue\u001b[0m\u001b[0;34m,\u001b[0m \u001b[0mimage_size\u001b[0m\u001b[0;34m=\u001b[0m\u001b[0msmaller_size\u001b[0m\u001b[0;34m)\u001b[0m\u001b[0;34m\u001b[0m\u001b[0;34m\u001b[0m\u001b[0m\n\u001b[0m\u001b[1;32m      2\u001b[0m \u001b[0minitial_val_dataset\u001b[0m \u001b[0;34m=\u001b[0m \u001b[0mmake_dataset\u001b[0m\u001b[0;34m(\u001b[0m\u001b[0mdataset\u001b[0m \u001b[0;34m=\u001b[0m\u001b[0;34m{\u001b[0m\u001b[0;34m\"data_1\"\u001b[0m\u001b[0;34m:\u001b[0m \u001b[0mtest_IR\u001b[0m\u001b[0;34m,\u001b[0m \u001b[0;34m\"data_2\"\u001b[0m\u001b[0;34m:\u001b[0m \u001b[0mtest_TR\u001b[0m\u001b[0;34m}\u001b[0m\u001b[0;34m,\u001b[0m \u001b[0mtrain\u001b[0m\u001b[0;34m=\u001b[0m\u001b[0;32mFalse\u001b[0m\u001b[0;34m,\u001b[0m \u001b[0mimage_size\u001b[0m\u001b[0;34m=\u001b[0m\u001b[0msmaller_size\u001b[0m\u001b[0;34m)\u001b[0m\u001b[0;34m\u001b[0m\u001b[0;34m\u001b[0m\u001b[0m\n\u001b[1;32m      3\u001b[0m \u001b[0;34m\u001b[0m\u001b[0m\n\u001b[1;32m      4\u001b[0m \u001b[0;31m# finetune_train_dataset = make_dataset(train_dataset, train=True, image_size=bigger_size)\u001b[0m\u001b[0;34m\u001b[0m\u001b[0;34m\u001b[0m\u001b[0;34m\u001b[0m\u001b[0m\n\u001b[1;32m      5\u001b[0m \u001b[0;31m# finetune_val_dataset = make_dataset(val_dataset, train=False, image_size=bigger_size)\u001b[0m\u001b[0;34m\u001b[0m\u001b[0;34m\u001b[0m\u001b[0;34m\u001b[0m\u001b[0m\n",
            "\u001b[0;32m<ipython-input-80-e58d0fd1e3ea>\u001b[0m in \u001b[0;36mmake_dataset\u001b[0;34m(dataset, train, image_size, fixres, num_parallel_calls)\u001b[0m\n\u001b[1;32m     89\u001b[0m         .map(\n\u001b[1;32m     90\u001b[0m             \u001b[0;32mlambda\u001b[0m \u001b[0mx\u001b[0m\u001b[0;34m,\u001b[0m \u001b[0my\u001b[0m\u001b[0;34m:\u001b[0m \u001b[0mpreprocess_func\u001b[0m\u001b[0;34m(\u001b[0m\u001b[0mx\u001b[0m\u001b[0;34m,\u001b[0m \u001b[0my\u001b[0m\u001b[0;34m,\u001b[0m \u001b[0mtrain\u001b[0m\u001b[0;34m)\u001b[0m\u001b[0;34m,\u001b[0m\u001b[0;34m\u001b[0m\u001b[0;34m\u001b[0m\u001b[0m\n\u001b[0;32m---> 91\u001b[0;31m             \u001b[0mnum_parallel_calls\u001b[0m\u001b[0;34m=\u001b[0m\u001b[0mnum_parallel_calls\u001b[0m\u001b[0;34m,\u001b[0m\u001b[0;34m\u001b[0m\u001b[0;34m\u001b[0m\u001b[0m\n\u001b[0m\u001b[1;32m     92\u001b[0m         )\n\u001b[1;32m     93\u001b[0m         \u001b[0;34m.\u001b[0m\u001b[0mbatch\u001b[0m\u001b[0;34m(\u001b[0m\u001b[0mbatch_size\u001b[0m\u001b[0;34m)\u001b[0m\u001b[0;34m\u001b[0m\u001b[0;34m\u001b[0m\u001b[0m\n",
            "\u001b[0;32m/usr/local/lib/python3.7/dist-packages/tensorflow/python/data/ops/dataset_ops.py\u001b[0m in \u001b[0;36mmap\u001b[0;34m(self, map_func, num_parallel_calls, deterministic, name)\u001b[0m\n\u001b[1;32m   2010\u001b[0m           \u001b[0mdeterministic\u001b[0m\u001b[0;34m,\u001b[0m\u001b[0;34m\u001b[0m\u001b[0;34m\u001b[0m\u001b[0m\n\u001b[1;32m   2011\u001b[0m           \u001b[0mpreserve_cardinality\u001b[0m\u001b[0;34m=\u001b[0m\u001b[0;32mTrue\u001b[0m\u001b[0;34m,\u001b[0m\u001b[0;34m\u001b[0m\u001b[0;34m\u001b[0m\u001b[0m\n\u001b[0;32m-> 2012\u001b[0;31m           name=name)\n\u001b[0m\u001b[1;32m   2013\u001b[0m \u001b[0;34m\u001b[0m\u001b[0m\n\u001b[1;32m   2014\u001b[0m   \u001b[0;32mdef\u001b[0m \u001b[0mflat_map\u001b[0m\u001b[0;34m(\u001b[0m\u001b[0mself\u001b[0m\u001b[0;34m,\u001b[0m \u001b[0mmap_func\u001b[0m\u001b[0;34m,\u001b[0m \u001b[0mname\u001b[0m\u001b[0;34m=\u001b[0m\u001b[0;32mNone\u001b[0m\u001b[0;34m)\u001b[0m\u001b[0;34m:\u001b[0m\u001b[0;34m\u001b[0m\u001b[0;34m\u001b[0m\u001b[0m\n",
            "\u001b[0;32m/usr/local/lib/python3.7/dist-packages/tensorflow/python/data/ops/dataset_ops.py\u001b[0m in \u001b[0;36m__init__\u001b[0;34m(self, input_dataset, map_func, num_parallel_calls, deterministic, use_inter_op_parallelism, preserve_cardinality, use_legacy_function, name)\u001b[0m\n\u001b[1;32m   5503\u001b[0m         \u001b[0mself\u001b[0m\u001b[0;34m.\u001b[0m\u001b[0m_transformation_name\u001b[0m\u001b[0;34m(\u001b[0m\u001b[0;34m)\u001b[0m\u001b[0;34m,\u001b[0m\u001b[0;34m\u001b[0m\u001b[0;34m\u001b[0m\u001b[0m\n\u001b[1;32m   5504\u001b[0m         \u001b[0mdataset\u001b[0m\u001b[0;34m=\u001b[0m\u001b[0minput_dataset\u001b[0m\u001b[0;34m,\u001b[0m\u001b[0;34m\u001b[0m\u001b[0;34m\u001b[0m\u001b[0m\n\u001b[0;32m-> 5505\u001b[0;31m         use_legacy_function=use_legacy_function)\n\u001b[0m\u001b[1;32m   5506\u001b[0m     \u001b[0;32mif\u001b[0m \u001b[0mdeterministic\u001b[0m \u001b[0;32mis\u001b[0m \u001b[0;32mNone\u001b[0m\u001b[0;34m:\u001b[0m\u001b[0;34m\u001b[0m\u001b[0;34m\u001b[0m\u001b[0m\n\u001b[1;32m   5507\u001b[0m       \u001b[0mself\u001b[0m\u001b[0;34m.\u001b[0m\u001b[0m_deterministic\u001b[0m \u001b[0;34m=\u001b[0m \u001b[0;34m\"default\"\u001b[0m\u001b[0;34m\u001b[0m\u001b[0;34m\u001b[0m\u001b[0m\n",
            "\u001b[0;32m/usr/local/lib/python3.7/dist-packages/tensorflow/python/data/ops/dataset_ops.py\u001b[0m in \u001b[0;36m__init__\u001b[0;34m(self, func, transformation_name, dataset, input_classes, input_shapes, input_types, input_structure, add_to_graph, use_legacy_function, defun_kwargs)\u001b[0m\n\u001b[1;32m   4531\u001b[0m         \u001b[0mfn_factory\u001b[0m \u001b[0;34m=\u001b[0m \u001b[0mtrace_tf_function\u001b[0m\u001b[0;34m(\u001b[0m\u001b[0mdefun_kwargs\u001b[0m\u001b[0;34m)\u001b[0m\u001b[0;34m\u001b[0m\u001b[0;34m\u001b[0m\u001b[0m\n\u001b[1;32m   4532\u001b[0m \u001b[0;34m\u001b[0m\u001b[0m\n\u001b[0;32m-> 4533\u001b[0;31m     \u001b[0mself\u001b[0m\u001b[0;34m.\u001b[0m\u001b[0m_function\u001b[0m \u001b[0;34m=\u001b[0m \u001b[0mfn_factory\u001b[0m\u001b[0;34m(\u001b[0m\u001b[0;34m)\u001b[0m\u001b[0;34m\u001b[0m\u001b[0;34m\u001b[0m\u001b[0m\n\u001b[0m\u001b[1;32m   4534\u001b[0m     \u001b[0;31m# There is no graph to add in eager mode.\u001b[0m\u001b[0;34m\u001b[0m\u001b[0;34m\u001b[0m\u001b[0;34m\u001b[0m\u001b[0m\n\u001b[1;32m   4535\u001b[0m     \u001b[0madd_to_graph\u001b[0m \u001b[0;34m&=\u001b[0m \u001b[0;32mnot\u001b[0m \u001b[0mcontext\u001b[0m\u001b[0;34m.\u001b[0m\u001b[0mexecuting_eagerly\u001b[0m\u001b[0;34m(\u001b[0m\u001b[0;34m)\u001b[0m\u001b[0;34m\u001b[0m\u001b[0;34m\u001b[0m\u001b[0m\n",
            "\u001b[0;32m/usr/local/lib/python3.7/dist-packages/tensorflow/python/eager/function.py\u001b[0m in \u001b[0;36mget_concrete_function\u001b[0;34m(self, *args, **kwargs)\u001b[0m\n\u001b[1;32m   3243\u001b[0m     \"\"\"\n\u001b[1;32m   3244\u001b[0m     graph_function = self._get_concrete_function_garbage_collected(\n\u001b[0;32m-> 3245\u001b[0;31m         *args, **kwargs)\n\u001b[0m\u001b[1;32m   3246\u001b[0m     \u001b[0mgraph_function\u001b[0m\u001b[0;34m.\u001b[0m\u001b[0m_garbage_collector\u001b[0m\u001b[0;34m.\u001b[0m\u001b[0mrelease\u001b[0m\u001b[0;34m(\u001b[0m\u001b[0;34m)\u001b[0m  \u001b[0;31m# pylint: disable=protected-access\u001b[0m\u001b[0;34m\u001b[0m\u001b[0;34m\u001b[0m\u001b[0m\n\u001b[1;32m   3247\u001b[0m     \u001b[0;32mreturn\u001b[0m \u001b[0mgraph_function\u001b[0m\u001b[0;34m\u001b[0m\u001b[0;34m\u001b[0m\u001b[0m\n",
            "\u001b[0;32m/usr/local/lib/python3.7/dist-packages/tensorflow/python/eager/function.py\u001b[0m in \u001b[0;36m_get_concrete_function_garbage_collected\u001b[0;34m(self, *args, **kwargs)\u001b[0m\n\u001b[1;32m   3208\u001b[0m       \u001b[0margs\u001b[0m\u001b[0;34m,\u001b[0m \u001b[0mkwargs\u001b[0m \u001b[0;34m=\u001b[0m \u001b[0;32mNone\u001b[0m\u001b[0;34m,\u001b[0m \u001b[0;32mNone\u001b[0m\u001b[0;34m\u001b[0m\u001b[0;34m\u001b[0m\u001b[0m\n\u001b[1;32m   3209\u001b[0m     \u001b[0;32mwith\u001b[0m \u001b[0mself\u001b[0m\u001b[0;34m.\u001b[0m\u001b[0m_lock\u001b[0m\u001b[0;34m:\u001b[0m\u001b[0;34m\u001b[0m\u001b[0;34m\u001b[0m\u001b[0m\n\u001b[0;32m-> 3210\u001b[0;31m       \u001b[0mgraph_function\u001b[0m\u001b[0;34m,\u001b[0m \u001b[0m_\u001b[0m \u001b[0;34m=\u001b[0m \u001b[0mself\u001b[0m\u001b[0;34m.\u001b[0m\u001b[0m_maybe_define_function\u001b[0m\u001b[0;34m(\u001b[0m\u001b[0margs\u001b[0m\u001b[0;34m,\u001b[0m \u001b[0mkwargs\u001b[0m\u001b[0;34m)\u001b[0m\u001b[0;34m\u001b[0m\u001b[0;34m\u001b[0m\u001b[0m\n\u001b[0m\u001b[1;32m   3211\u001b[0m       \u001b[0mseen_names\u001b[0m \u001b[0;34m=\u001b[0m \u001b[0mset\u001b[0m\u001b[0;34m(\u001b[0m\u001b[0;34m)\u001b[0m\u001b[0;34m\u001b[0m\u001b[0;34m\u001b[0m\u001b[0m\n\u001b[1;32m   3212\u001b[0m       captured = object_identity.ObjectIdentitySet(\n",
            "\u001b[0;32m/usr/local/lib/python3.7/dist-packages/tensorflow/python/eager/function.py\u001b[0m in \u001b[0;36m_maybe_define_function\u001b[0;34m(self, args, kwargs)\u001b[0m\n\u001b[1;32m   3555\u001b[0m \u001b[0;34m\u001b[0m\u001b[0m\n\u001b[1;32m   3556\u001b[0m           \u001b[0mself\u001b[0m\u001b[0;34m.\u001b[0m\u001b[0m_function_cache\u001b[0m\u001b[0;34m.\u001b[0m\u001b[0mmissed\u001b[0m\u001b[0;34m.\u001b[0m\u001b[0madd\u001b[0m\u001b[0;34m(\u001b[0m\u001b[0mcall_context_key\u001b[0m\u001b[0;34m)\u001b[0m\u001b[0;34m\u001b[0m\u001b[0;34m\u001b[0m\u001b[0m\n\u001b[0;32m-> 3557\u001b[0;31m           \u001b[0mgraph_function\u001b[0m \u001b[0;34m=\u001b[0m \u001b[0mself\u001b[0m\u001b[0;34m.\u001b[0m\u001b[0m_create_graph_function\u001b[0m\u001b[0;34m(\u001b[0m\u001b[0margs\u001b[0m\u001b[0;34m,\u001b[0m \u001b[0mkwargs\u001b[0m\u001b[0;34m)\u001b[0m\u001b[0;34m\u001b[0m\u001b[0;34m\u001b[0m\u001b[0m\n\u001b[0m\u001b[1;32m   3558\u001b[0m           \u001b[0mself\u001b[0m\u001b[0;34m.\u001b[0m\u001b[0m_function_cache\u001b[0m\u001b[0;34m.\u001b[0m\u001b[0mprimary\u001b[0m\u001b[0;34m[\u001b[0m\u001b[0mcache_key\u001b[0m\u001b[0;34m]\u001b[0m \u001b[0;34m=\u001b[0m \u001b[0mgraph_function\u001b[0m\u001b[0;34m\u001b[0m\u001b[0;34m\u001b[0m\u001b[0m\n\u001b[1;32m   3559\u001b[0m \u001b[0;34m\u001b[0m\u001b[0m\n",
            "\u001b[0;32m/usr/local/lib/python3.7/dist-packages/tensorflow/python/eager/function.py\u001b[0m in \u001b[0;36m_create_graph_function\u001b[0;34m(self, args, kwargs, override_flat_arg_shapes)\u001b[0m\n\u001b[1;32m   3400\u001b[0m             \u001b[0marg_names\u001b[0m\u001b[0;34m=\u001b[0m\u001b[0marg_names\u001b[0m\u001b[0;34m,\u001b[0m\u001b[0;34m\u001b[0m\u001b[0;34m\u001b[0m\u001b[0m\n\u001b[1;32m   3401\u001b[0m             \u001b[0moverride_flat_arg_shapes\u001b[0m\u001b[0;34m=\u001b[0m\u001b[0moverride_flat_arg_shapes\u001b[0m\u001b[0;34m,\u001b[0m\u001b[0;34m\u001b[0m\u001b[0;34m\u001b[0m\u001b[0m\n\u001b[0;32m-> 3402\u001b[0;31m             capture_by_value=self._capture_by_value),\n\u001b[0m\u001b[1;32m   3403\u001b[0m         \u001b[0mself\u001b[0m\u001b[0;34m.\u001b[0m\u001b[0m_function_attributes\u001b[0m\u001b[0;34m,\u001b[0m\u001b[0;34m\u001b[0m\u001b[0;34m\u001b[0m\u001b[0m\n\u001b[1;32m   3404\u001b[0m         \u001b[0mfunction_spec\u001b[0m\u001b[0;34m=\u001b[0m\u001b[0mself\u001b[0m\u001b[0;34m.\u001b[0m\u001b[0mfunction_spec\u001b[0m\u001b[0;34m,\u001b[0m\u001b[0;34m\u001b[0m\u001b[0;34m\u001b[0m\u001b[0m\n",
            "\u001b[0;32m/usr/local/lib/python3.7/dist-packages/tensorflow/python/framework/func_graph.py\u001b[0m in \u001b[0;36mfunc_graph_from_py_func\u001b[0;34m(name, python_func, args, kwargs, signature, func_graph, autograph, autograph_options, add_control_dependencies, arg_names, op_return_value, collections, capture_by_value, override_flat_arg_shapes, acd_record_initial_resource_uses)\u001b[0m\n\u001b[1;32m   1141\u001b[0m         \u001b[0m_\u001b[0m\u001b[0;34m,\u001b[0m \u001b[0moriginal_func\u001b[0m \u001b[0;34m=\u001b[0m \u001b[0mtf_decorator\u001b[0m\u001b[0;34m.\u001b[0m\u001b[0munwrap\u001b[0m\u001b[0;34m(\u001b[0m\u001b[0mpython_func\u001b[0m\u001b[0;34m)\u001b[0m\u001b[0;34m\u001b[0m\u001b[0;34m\u001b[0m\u001b[0m\n\u001b[1;32m   1142\u001b[0m \u001b[0;34m\u001b[0m\u001b[0m\n\u001b[0;32m-> 1143\u001b[0;31m       \u001b[0mfunc_outputs\u001b[0m \u001b[0;34m=\u001b[0m \u001b[0mpython_func\u001b[0m\u001b[0;34m(\u001b[0m\u001b[0;34m*\u001b[0m\u001b[0mfunc_args\u001b[0m\u001b[0;34m,\u001b[0m \u001b[0;34m**\u001b[0m\u001b[0mfunc_kwargs\u001b[0m\u001b[0;34m)\u001b[0m\u001b[0;34m\u001b[0m\u001b[0;34m\u001b[0m\u001b[0m\n\u001b[0m\u001b[1;32m   1144\u001b[0m \u001b[0;34m\u001b[0m\u001b[0m\n\u001b[1;32m   1145\u001b[0m       \u001b[0;31m# invariant: `func_outputs` contains only Tensors, CompositeTensors,\u001b[0m\u001b[0;34m\u001b[0m\u001b[0;34m\u001b[0m\u001b[0;34m\u001b[0m\u001b[0m\n",
            "\u001b[0;32m/usr/local/lib/python3.7/dist-packages/tensorflow/python/data/ops/dataset_ops.py\u001b[0m in \u001b[0;36mwrapped_fn\u001b[0;34m(*args)\u001b[0m\n\u001b[1;32m   4508\u001b[0m           attributes=defun_kwargs)\n\u001b[1;32m   4509\u001b[0m       \u001b[0;32mdef\u001b[0m \u001b[0mwrapped_fn\u001b[0m\u001b[0;34m(\u001b[0m\u001b[0;34m*\u001b[0m\u001b[0margs\u001b[0m\u001b[0;34m)\u001b[0m\u001b[0;34m:\u001b[0m  \u001b[0;31m# pylint: disable=missing-docstring\u001b[0m\u001b[0;34m\u001b[0m\u001b[0;34m\u001b[0m\u001b[0m\n\u001b[0;32m-> 4510\u001b[0;31m         \u001b[0mret\u001b[0m \u001b[0;34m=\u001b[0m \u001b[0mwrapper_helper\u001b[0m\u001b[0;34m(\u001b[0m\u001b[0;34m*\u001b[0m\u001b[0margs\u001b[0m\u001b[0;34m)\u001b[0m\u001b[0;34m\u001b[0m\u001b[0;34m\u001b[0m\u001b[0m\n\u001b[0m\u001b[1;32m   4511\u001b[0m         \u001b[0mret\u001b[0m \u001b[0;34m=\u001b[0m \u001b[0mstructure\u001b[0m\u001b[0;34m.\u001b[0m\u001b[0mto_tensor_list\u001b[0m\u001b[0;34m(\u001b[0m\u001b[0mself\u001b[0m\u001b[0;34m.\u001b[0m\u001b[0m_output_structure\u001b[0m\u001b[0;34m,\u001b[0m \u001b[0mret\u001b[0m\u001b[0;34m)\u001b[0m\u001b[0;34m\u001b[0m\u001b[0;34m\u001b[0m\u001b[0m\n\u001b[1;32m   4512\u001b[0m         \u001b[0;32mreturn\u001b[0m \u001b[0;34m[\u001b[0m\u001b[0mops\u001b[0m\u001b[0;34m.\u001b[0m\u001b[0mconvert_to_tensor\u001b[0m\u001b[0;34m(\u001b[0m\u001b[0mt\u001b[0m\u001b[0;34m)\u001b[0m \u001b[0;32mfor\u001b[0m \u001b[0mt\u001b[0m \u001b[0;32min\u001b[0m \u001b[0mret\u001b[0m\u001b[0;34m]\u001b[0m\u001b[0;34m\u001b[0m\u001b[0;34m\u001b[0m\u001b[0m\n",
            "\u001b[0;32m/usr/local/lib/python3.7/dist-packages/tensorflow/python/data/ops/dataset_ops.py\u001b[0m in \u001b[0;36mwrapper_helper\u001b[0;34m(*args)\u001b[0m\n\u001b[1;32m   4438\u001b[0m       \u001b[0;32mif\u001b[0m \u001b[0;32mnot\u001b[0m \u001b[0m_should_unpack\u001b[0m\u001b[0;34m(\u001b[0m\u001b[0mnested_args\u001b[0m\u001b[0;34m)\u001b[0m\u001b[0;34m:\u001b[0m\u001b[0;34m\u001b[0m\u001b[0;34m\u001b[0m\u001b[0m\n\u001b[1;32m   4439\u001b[0m         \u001b[0mnested_args\u001b[0m \u001b[0;34m=\u001b[0m \u001b[0;34m(\u001b[0m\u001b[0mnested_args\u001b[0m\u001b[0;34m,\u001b[0m\u001b[0;34m)\u001b[0m\u001b[0;34m\u001b[0m\u001b[0;34m\u001b[0m\u001b[0m\n\u001b[0;32m-> 4440\u001b[0;31m       \u001b[0mret\u001b[0m \u001b[0;34m=\u001b[0m \u001b[0mautograph\u001b[0m\u001b[0;34m.\u001b[0m\u001b[0mtf_convert\u001b[0m\u001b[0;34m(\u001b[0m\u001b[0mself\u001b[0m\u001b[0;34m.\u001b[0m\u001b[0m_func\u001b[0m\u001b[0;34m,\u001b[0m \u001b[0mag_ctx\u001b[0m\u001b[0;34m)\u001b[0m\u001b[0;34m(\u001b[0m\u001b[0;34m*\u001b[0m\u001b[0mnested_args\u001b[0m\u001b[0;34m)\u001b[0m\u001b[0;34m\u001b[0m\u001b[0;34m\u001b[0m\u001b[0m\n\u001b[0m\u001b[1;32m   4441\u001b[0m       \u001b[0;32mif\u001b[0m \u001b[0m_should_pack\u001b[0m\u001b[0;34m(\u001b[0m\u001b[0mret\u001b[0m\u001b[0;34m)\u001b[0m\u001b[0;34m:\u001b[0m\u001b[0;34m\u001b[0m\u001b[0;34m\u001b[0m\u001b[0m\n\u001b[1;32m   4442\u001b[0m         \u001b[0mret\u001b[0m \u001b[0;34m=\u001b[0m \u001b[0mtuple\u001b[0m\u001b[0;34m(\u001b[0m\u001b[0mret\u001b[0m\u001b[0;34m)\u001b[0m\u001b[0;34m\u001b[0m\u001b[0;34m\u001b[0m\u001b[0m\n",
            "\u001b[0;32m/usr/local/lib/python3.7/dist-packages/tensorflow/python/autograph/impl/api.py\u001b[0m in \u001b[0;36mwrapper\u001b[0;34m(*args, **kwargs)\u001b[0m\n\u001b[1;32m    697\u001b[0m       \u001b[0;32mexcept\u001b[0m \u001b[0mException\u001b[0m \u001b[0;32mas\u001b[0m \u001b[0me\u001b[0m\u001b[0;34m:\u001b[0m  \u001b[0;31m# pylint:disable=broad-except\u001b[0m\u001b[0;34m\u001b[0m\u001b[0;34m\u001b[0m\u001b[0m\n\u001b[1;32m    698\u001b[0m         \u001b[0;32mif\u001b[0m \u001b[0mhasattr\u001b[0m\u001b[0;34m(\u001b[0m\u001b[0me\u001b[0m\u001b[0;34m,\u001b[0m \u001b[0;34m'ag_error_metadata'\u001b[0m\u001b[0;34m)\u001b[0m\u001b[0;34m:\u001b[0m\u001b[0;34m\u001b[0m\u001b[0;34m\u001b[0m\u001b[0m\n\u001b[0;32m--> 699\u001b[0;31m           \u001b[0;32mraise\u001b[0m \u001b[0me\u001b[0m\u001b[0;34m.\u001b[0m\u001b[0mag_error_metadata\u001b[0m\u001b[0;34m.\u001b[0m\u001b[0mto_exception\u001b[0m\u001b[0;34m(\u001b[0m\u001b[0me\u001b[0m\u001b[0;34m)\u001b[0m\u001b[0;34m\u001b[0m\u001b[0;34m\u001b[0m\u001b[0m\n\u001b[0m\u001b[1;32m    700\u001b[0m         \u001b[0;32melse\u001b[0m\u001b[0;34m:\u001b[0m\u001b[0;34m\u001b[0m\u001b[0;34m\u001b[0m\u001b[0m\n\u001b[1;32m    701\u001b[0m           \u001b[0;32mraise\u001b[0m\u001b[0;34m\u001b[0m\u001b[0;34m\u001b[0m\u001b[0m\n",
            "\u001b[0;31mTypeError\u001b[0m: in user code:\n\n    File \"<ipython-input-49-f6d19657a9d5>\", line 90, in None  *\n        lambda x, y: preprocess_func(x, y, train),\n    File \"<ipython-input-80-e58d0fd1e3ea>\", line 42, in _pp  *\n        return {image, tf.convert_to_tensor(image[\"input_2\"])}, label\n\n    TypeError: Only integers, slices (`:`), ellipsis (`...`), tf.newaxis (`None`) and scalar tf.int32/tf.int64 tensors are valid indices, got 'input_2'\n"
          ]
        }
      ]
    },
    {
      "cell_type": "code",
      "metadata": {
        "colab": {
          "base_uri": "https://localhost:8080/"
        },
        "id": "YbCVW7Byxb2H",
        "outputId": "fc1013a2-059d-44e1-befa-66d54625ad5b"
      },
      "source": [
        "initial_train_dataset.prefetch(32)"
      ],
      "execution_count": null,
      "outputs": [
        {
          "data": {
            "text/plain": [
              "<PrefetchDataset shapes: ((None, 192, 192, 3), {out_1: (None,), out_2: (None, 4096)}), types: (tf.float32, {out_1: tf.int32, out_2: tf.float32})>"
            ]
          },
          "execution_count": 21,
          "metadata": {},
          "output_type": "execute_result"
        }
      ]
    },
    {
      "cell_type": "markdown",
      "metadata": {
        "id": "by8c2fGCreWZ"
      },
      "source": [
        "## Optimizer"
      ]
    },
    {
      "cell_type": "code",
      "metadata": {
        "id": "oVfaNhKRrkxY"
      },
      "source": [
        "import tensorflow as tf\n",
        "import math\n",
        "\n",
        "\n",
        "class AngularGrad(tf.keras.optimizers.Optimizer):\n",
        "  def __init__(\n",
        "      self,\n",
        "      method_angle: str = \"cos\",\n",
        "      learning_rate=1e-3,\n",
        "      beta_1=0.9,\n",
        "      beta_2=0.999,\n",
        "      eps=1e-7,\n",
        "      name: str = \"AngularGrad\",\n",
        "      **kwargs,\n",
        "  ):\n",
        "    super().__init__(name, **kwargs)\n",
        "\n",
        "    self.method_angle = method_angle\n",
        "    self._set_hyper(\"learning_rate\", kwargs.get(\"lr\", learning_rate))\n",
        "    self._set_hyper(\"beta_1\", beta_1)\n",
        "    self._set_hyper(\"beta_2\", beta_2)\n",
        "    self._set_hyper(\"eps\", eps)\n",
        "    self.eps = eps or tf.keras.backend.epsilon()\n",
        "\n",
        "  def _create_slots(self, var_list):\n",
        "    for var in var_list:\n",
        "      self.add_slot(var, \"exp_avg\")\n",
        "      self.add_slot(var, \"exp_avg_sq\")\n",
        "      self.add_slot(var, \"previous_grad\")\n",
        "      self.add_slot(var, \"min\", initializer=tf.keras.initializers.Constant(value=math.pi / 2))\n",
        "      self.add_slot(var, \"final_angle_function_theta\")\n",
        "\n",
        "  def _resource_apply_dense(self, grad, var):\n",
        "    var_dtype = var.dtype.base_dtype\n",
        "\n",
        "    lr = self._get_hyper(\"learning_rate\", var_dtype)\n",
        "    beta_1 = self._get_hyper(\"beta_1\", var_dtype)\n",
        "    beta_2 = self._get_hyper(\"beta_2\", var_dtype)\n",
        "    eps = self._get_hyper(\"eps\", var_dtype)\n",
        "\n",
        "    exp_avg = self.get_slot(var, \"exp_avg\")\n",
        "    exp_avg_sq = self.get_slot(var, \"exp_avg_sq\")\n",
        "    previous_grad = self.get_slot(var, \"previous_grad\")\n",
        "    min = self.get_slot(var, \"min\")\n",
        "    final_angle_function_theta = self.get_slot(var, \"final_angle_function_theta\")\n",
        "\n",
        "    step = tf.cast(self.iterations + 1, var_dtype)\n",
        "    beta_1_power = tf.pow(beta_1, step)\n",
        "    beta_2_power = tf.pow(beta_2, step)\n",
        "\n",
        "    new_exp_avg = exp_avg.assign(\n",
        "        beta_1 * exp_avg + (1.0 - beta_1) * grad,\n",
        "        use_locking=self._use_locking\n",
        "    )\n",
        "    exp_avg_corrected = new_exp_avg / (1.0 - beta_1_power)\n",
        "\n",
        "    new_exp_avg_sq = exp_avg_sq.assign(\n",
        "        beta_2 * exp_avg_sq + (1.0 - beta_2) * tf.square(grad),\n",
        "        use_locking=self._use_locking,\n",
        "    )\n",
        "    exp_avg_sq_corrected = new_exp_avg_sq / (1.0 - beta_2_power)\n",
        "\n",
        "    tan_theta = tf.abs((previous_grad - grad) / (1 + previous_grad * grad))\n",
        "    cos_theta = 1 / tf.sqrt(1 + tf.square(tan_theta))\n",
        "\n",
        "    angle = tf.atan(tan_theta) * (180 / math.pi)\n",
        "    ans = tf.greater(angle, min)\n",
        "    mean_ans = tf.reduce_mean(tf.cast(ans, tf.float32))\n",
        "\n",
        "    def true_fn():\n",
        "      new_min = min.assign(angle, use_locking=self._use_locking)\n",
        "      new_final_angle_function_theta = final_angle_function_theta.assign(\n",
        "          tf.identity(tan_theta if self.method_angle == \"tan\" else cos_theta),\n",
        "          use_locking=self._use_locking\n",
        "      )\n",
        "      return new_min, new_final_angle_function_theta\n",
        "\n",
        "    def false_fn():\n",
        "      return min, final_angle_function_theta\n",
        "\n",
        "    new_min, new_final_angle_function_theta = tf.cond(tf.less(mean_ans, 0.5), true_fn, false_fn)\n",
        "    angular_coeff = tf.tanh(tf.abs(final_angle_function_theta)) * 0.5 + 0.5\n",
        "\n",
        "    var_update = var.assign_sub(\n",
        "        lr * exp_avg_corrected * angular_coeff / (tf.sqrt(exp_avg_sq_corrected) + eps),\n",
        "        use_locking=self._use_locking\n",
        "    )\n",
        "\n",
        "    new_previous_grad = previous_grad.assign(grad, use_locking=self._use_locking)\n",
        "\n",
        "    updates = [var_update, new_exp_avg, new_exp_avg_sq, new_min, new_previous_grad, new_final_angle_function_theta]\n",
        "    return tf.group(*updates)\n",
        "\n",
        "  def _resource_apply_sparse(self, grad, var, indices):\n",
        "    raise NotImplementedError\n",
        "\n",
        "  def get_config(self):\n",
        "    config = super().get_config()\n",
        "    config.update(\n",
        "        {\n",
        "            \"learning_rate\": self._serialize_hyperparameter(\"learning_rate\"),\n",
        "            \"beta_1\": self._serialize_hyperparameter(\"beta_1\"),\n",
        "            \"beta_2\": self._serialize_hyperparameter(\"beta_2\"),\n",
        "            \"eps\": self._serialize_hyperparameter(\"eps\")\n",
        "        }\n",
        "    )\n",
        "    return config"
      ],
      "execution_count": null,
      "outputs": []
    },
    {
      "cell_type": "markdown",
      "metadata": {
        "id": "GO4l3pnM2f20"
      },
      "source": [
        "## Model training utilities\n",
        "\n",
        "We train multiple variants of ResNet50V2\n",
        "([He et al.](https://arxiv.org/abs/1603.05027)):\n",
        "\n",
        "1. On the smaller resolution dataset (128x128). It will be trained from scratch.\n",
        "2. Then fine-tune the model from 1 on the larger resolution (224x224) dataset.\n",
        "3. Train another ResNet50V2 from scratch on the larger resolution dataset.\n",
        "\n",
        "As a reminder, the larger resolution datasets differ in terms of their augmentation\n",
        "transforms."
      ]
    },
    {
      "cell_type": "code",
      "metadata": {
        "id": "QZ_lF9bb9iW3"
      },
      "source": [
        "# from random import seed\n",
        "# from random import random\n",
        "# # seed random number generator\n",
        "# seed(1)"
      ],
      "execution_count": null,
      "outputs": []
    },
    {
      "cell_type": "code",
      "metadata": {
        "id": "E8SKRzd42f21"
      },
      "source": [
        "\n",
        "def get_training_model(num_classes, activation=\"linear\"):\n",
        "    inputs = layers.Input((None, None, 3), name=\"input\")\n",
        "    # x = layers.Rescaling(scale=1.0 / 127.5, offset=-1)(inputs)\n",
        "    \n",
        "    resnet_base = keras.applications.EfficientNetB0(\n",
        "        include_top=False, weights='imagenet'\n",
        "    )\n",
        "    resnet_base.trainable = False\n",
        "    # x = layers.Dense(num_classes)(inputs)\n",
        "    \n",
        "    x = learnable_resizer(x)\n",
        "    x = resnet_base(x)\n",
        "\n",
        "    x = layers.GlobalAveragePooling2D(name=\"avg_pool\")(x)\n",
        "    x = layers.BatchNormalization()(x)\n",
        "\n",
        "    top_dropout_rate = 0.2\n",
        "    x = layers.Dropout(top_dropout_rate, name=\"top_dropout\")(x)\n",
        "    # outputs = tf.keras.layers.Flatten()(x)\n",
        "    outputs = layers.Dense(num_classes, activation=activation, name='out_1')(x)\n",
        "    # outputs2 = tf.keras.layers.Flatten()(x)\n",
        "    outputs2 = layers.Dense(4096, activation=\"softmax\", name='out_2')(x)\n",
        "\n",
        "    return keras.Model(inputs, [outputs, outputs2])\n",
        "    # inputs = tf.keras.Input((128, 128, 3))\n",
        "    # resnet_base = keras.applications.EfficientNetB0(\n",
        "    #     include_top=False,\n",
        "    # )\n",
        "    # resnet_base.trainable = True\n",
        "\n",
        "    # # x = layers.Rescaling(scale=1.0 / 127.5, offset=-1)(inputs)\n",
        "    # #x = preprocess_input(inputs)\n",
        "    # x = resnet_base(inputs)\n",
        "    # outputs = layers.Dense(num_classes, activation=\"softmax\")(x)\n",
        "    # return keras.Model(inputs, outputs)\n",
        "\n",
        "\n",
        "def train_and_evaluate(\n",
        "    model, train_ds, val_ds, epochs,  optimizer=AngularGrad(learning_rate=1e-3)\n",
        "):\n",
        "    \n",
        "    # if random() > 0.5:\n",
        "    #   optimizer=AngularGrad(learning_rate=1e-3)\n",
        "    # optimizer = keras.optimizers.Adam(learning_rate=learning_rate)\n",
        "    model.compile(\n",
        "        optimizer=optimizer,\n",
        "        loss=[tf.keras.losses.MeanSquaredError(), tf.keras.losses.CategoricalCrossentropy()]\n",
        "    )\n",
        "    reduce_lr = tf.keras.callbacks.ReduceLROnPlateau(\n",
        "        patience=3, factor=0.5, monitor=\"val_loss\"\n",
        "    )\n",
        "    early_stopping = tf.keras.callbacks.EarlyStopping(\n",
        "        patience=10, restore_best_weights=True, monitor=\"val_loss\"\n",
        "    )\n",
        "\n",
        "    model.fit(\n",
        "        train_ds, validation_data=val_ds, epochs=epochs,callbacks=[reduce_lr, early_stopping]\n",
        "    )\n",
        "\n",
        "    _, accuracy = model.evaluate(val_ds)\n",
        "    print(f\"Top-1 accuracy on the validation set: {accuracy*100:.2f}%.\")\n",
        "    return model\n"
      ],
      "execution_count": null,
      "outputs": []
    },
    {
      "cell_type": "code",
      "metadata": {
        "id": "R8T3Jm9Dc6PA"
      },
      "source": [
        "def get_model():\n",
        "    inputs = layers.Input((None, None, 3), name=\"input\")\n",
        "    x = layers.Rescaling(scale=1.0 / 255)(inputs)\n",
        "    x = learnable_resizer(x)\n",
        "\n",
        "\n",
        "    outputs = get_training_model(x)\n",
        "\n",
        "    return tf.keras.Model(inputs, outputs)"
      ],
      "execution_count": null,
      "outputs": []
    },
    {
      "cell_type": "code",
      "metadata": {
        "id": "PI6p_d8j7cqF"
      },
      "source": [
        "# smaller_res_model = get_training_model()"
      ],
      "execution_count": null,
      "outputs": []
    },
    {
      "cell_type": "code",
      "metadata": {
        "id": "uGIezeXjUwVd"
      },
      "source": [
        "linear_model =  tf.keras.experimental.LinearModel()\n",
        "linear_model.compile(AngularGrad(learning_rate=1e-3, method_angle = \"tan\"), 'mse')\n",
        "es_callback = keras.callbacks.EarlyStopping(patience=10)\n",
        "callbacks = [es_callback]\n",
        "# linear_model.fit(train_TR.iloc[0:len(train_TR), 0:12], train_TR.iloc[0:len(train_TR), 12], val epochs=2, validation_data=(train_TR.iloc[0:len(train_TR), 0:12], train_TR.iloc[0:len(train_TR), 12]), batch_size=1)\n",
        "# dnn_model = keras.Sequential([keras.layers.Dense(units=64),\n",
        "#                              keras.layers.Dense(units=1)])\n",
        "combined_model = WideDeepModel(linear_model, dnn_model)\n",
        "combined_model.compile(optimizer=['sgd', 'adam'], 'mse', ['mse'])\n",
        "# define dnn_inputs and linear_inputs as separate numpy arrays or\n",
        "# a single numpy array if dnn_inputs is same as linear_inputs.\n",
        "combined_model.fit([linear_inputs, dnn_inputs], y, epochs)\n",
        "# # or define a single `tf.data.Dataset` that contains a single tensor or\n",
        "# # separate tensors for dnn_inputs and linear_inputs.\n",
        "# dataset = tf.data.Dataset.from_tensors(([linear_inputs, dnn_inputs], y))\n",
        "combined_model.fit(dataset, epochs)"
      ],
      "execution_count": null,
      "outputs": []
    },
    {
      "cell_type": "code",
      "metadata": {
        "id": "_6L4fKe1ewya"
      },
      "source": [
        "# linear_model.compile(AngularGrad(learning_rate=1e-5), 'mse')\n",
        "# linear_model.fit(train_TR.iloc[0:len(train_TR), 0:12], train_TR.iloc[0:len(train_TR), 12], epochs=20, batch_size=1)"
      ],
      "execution_count": null,
      "outputs": []
    },
    {
      "cell_type": "markdown",
      "metadata": {
        "id": "Uv-90tJv2f22"
      },
      "source": [
        "## Experiment 1: Train on 128x128 and then fine-tune on 224x224"
      ]
    },
    {
      "cell_type": "code",
      "metadata": {
        "id": "rhMpIFDM2f23"
      },
      "source": [
        "epochs = 30\n",
        "\n",
        "smaller_res_model = get_training_model(num_classes)\n"
      ],
      "execution_count": null,
      "outputs": []
    },
    {
      "cell_type": "code",
      "metadata": {
        "id": "vBVFeyb_OpnY"
      },
      "source": [
        "# for layer in smaller_res_model.layers[2].layers:\n",
        "#     layer.trainable = False\n",
        "\n",
        "# smaller_res_model.layers[2].get_layer(\"top_bn\").trainable = True"
      ],
      "execution_count": null,
      "outputs": []
    },
    {
      "cell_type": "code",
      "metadata": {
        "colab": {
          "base_uri": "https://localhost:8080/"
        },
        "id": "6zQ3EKKhqNBp",
        "outputId": "5595bd10-0a8a-47aa-fa5b-8765c149ef1e"
      },
      "source": [
        "smaller_res_model.summary()"
      ],
      "execution_count": null,
      "outputs": [
        {
          "name": "stdout",
          "output_type": "stream",
          "text": [
            "Model: \"model\"\n",
            "__________________________________________________________________________________________________\n",
            " Layer (type)                   Output Shape         Param #     Connected to                     \n",
            "==================================================================================================\n",
            " input (InputLayer)             [(None, None, None,  0           []                               \n",
            "                                 3)]                                                              \n",
            "                                                                                                  \n",
            " rescaling_1 (Rescaling)        (None, None, None,   0           ['input[0][0]']                  \n",
            "                                3)                                                                \n",
            "                                                                                                  \n",
            " learnable_resizer (Functional)  (None, 96, 96, 3)   12163       ['rescaling_1[0][0]']            \n",
            "                                                                                                  \n",
            " efficientnetb0 (Functional)    (None, None, None,   4049571     ['learnable_resizer[0][0]']      \n",
            "                                1280)                                                             \n",
            "                                                                                                  \n",
            " avg_pool (GlobalAveragePooling  (None, 1280)        0           ['efficientnetb0[0][0]']         \n",
            " 2D)                                                                                              \n",
            "                                                                                                  \n",
            " batch_normalization_4 (BatchNo  (None, 1280)        5120        ['avg_pool[0][0]']               \n",
            " rmalization)                                                                                     \n",
            "                                                                                                  \n",
            " top_dropout (Dropout)          (None, 1280)         0           ['batch_normalization_4[0][0]']  \n",
            "                                                                                                  \n",
            " out_1 (Dense)                  (None, 1)            1281        ['top_dropout[0][0]']            \n",
            "                                                                                                  \n",
            " out_2 (Dense)                  (None, 4096)         5246976     ['top_dropout[0][0]']            \n",
            "                                                                                                  \n",
            "==================================================================================================\n",
            "Total params: 9,315,111\n",
            "Trainable params: 5,262,852\n",
            "Non-trainable params: 4,052,259\n",
            "__________________________________________________________________________________________________\n"
          ]
        }
      ]
    },
    {
      "cell_type": "code",
      "metadata": {
        "colab": {
          "base_uri": "https://localhost:8080/",
          "height": 864
        },
        "id": "ZjfAheTUXOFO",
        "outputId": "6ae19b5d-9d0d-469f-fb63-7c31440b8807"
      },
      "source": [
        "tf.keras.utils.plot_model(smaller_res_model, \"my_first_model_with_shape_info.png\", show_shapes=True)\n"
      ],
      "execution_count": null,
      "outputs": [
        {
          "data": {
            "image/png": "[encoded data removed]",
            "text/plain": [
              "<IPython.core.display.Image object>"
            ]
          },
          "execution_count": 25,
          "metadata": {},
          "output_type": "execute_result"
        }
      ]
    },
    {
      "cell_type": "code",
      "metadata": {
        "id": "C4X5ES3gGFxr"
      },
      "source": [
        "# model2 = keras.Model(inputs=smaller_res_model.get_layer(\"input_13\").input, outputs=smaller_res_model.get_layer(\"out_1\").output)\n",
        "# tf.keras.utils.plot_model(model2, \"my_first_model_with_shape_info.png\", show_shapes=True)"
      ],
      "execution_count": null,
      "outputs": []
    },
    {
      "cell_type": "code",
      "metadata": {
        "colab": {
          "base_uri": "https://localhost:8080/",
          "height": 547
        },
        "id": "Ur9hrehoMIp8",
        "outputId": "29ead15e-8d98-42f2-aa72-2e581d5ead05"
      },
      "source": [
        "smaller_res_model = train_and_evaluate(\n",
        "    smaller_res_model, initial_train_dataset, initial_val_dataset, epochs\n",
        ")"
      ],
      "execution_count": null,
      "outputs": [
        {
          "name": "stdout",
          "output_type": "stream",
          "text": [
            "Epoch 1/30\n",
            "233/233 [==============================] - 1921s 5s/step - loss: 1256.9250 - out_1_loss: 1251.8245 - out_2_loss: 5.1014 - val_loss: 521.1213 - val_out_1_loss: 517.8283 - val_out_2_loss: 3.2931 - lr: 0.0010\n",
            "Epoch 2/30\n",
            "233/233 [==============================] - 1940s 5s/step - loss: 434.4899 - out_1_loss: 431.1980 - out_2_loss: 3.2920 - val_loss: 447.2956 - val_out_1_loss: 444.0873 - val_out_2_loss: 3.2082 - lr: 0.0010\n",
            "Epoch 3/30\n",
            "233/233 [==============================] - 1927s 5s/step - loss: 423.5861 - out_1_loss: 420.3303 - out_2_loss: 3.2560 - val_loss: 448.5201 - val_out_1_loss: 445.3015 - val_out_2_loss: 3.2184 - lr: 0.0010\n",
            "Epoch 4/30\n",
            "233/233 [==============================] - 1921s 5s/step - loss: 424.1006 - out_1_loss: 420.8805 - out_2_loss: 3.2201 - val_loss: 445.7560 - val_out_1_loss: 442.6132 - val_out_2_loss: 3.1427 - lr: 0.0010\n",
            "Epoch 5/30\n",
            "233/233 [==============================] - 1919s 5s/step - loss: 423.8100 - out_1_loss: 420.6221 - out_2_loss: 3.1876 - val_loss: 444.3837 - val_out_1_loss: 441.2637 - val_out_2_loss: 3.1201 - lr: 0.0010\n",
            "Epoch 6/30\n"
          ]
        },
        {
          "ename": "KeyboardInterrupt",
          "evalue": "ignored",
          "output_type": "error",
          "traceback": [
            "\u001b[0;31m---------------------------------------------------------------------------\u001b[0m",
            "\u001b[0;31mKeyboardInterrupt\u001b[0m                         Traceback (most recent call last)",
            "\u001b[0;32m<ipython-input-27-665444d937bb>\u001b[0m in \u001b[0;36m<module>\u001b[0;34m()\u001b[0m\n\u001b[1;32m      1\u001b[0m smaller_res_model = train_and_evaluate(\n\u001b[0;32m----> 2\u001b[0;31m     \u001b[0msmaller_res_model\u001b[0m\u001b[0;34m,\u001b[0m \u001b[0minitial_train_dataset\u001b[0m\u001b[0;34m,\u001b[0m \u001b[0minitial_val_dataset\u001b[0m\u001b[0;34m,\u001b[0m \u001b[0mepochs\u001b[0m\u001b[0;34m\u001b[0m\u001b[0;34m\u001b[0m\u001b[0m\n\u001b[0m\u001b[1;32m      3\u001b[0m )\n",
            "\u001b[0;32m<ipython-input-23-d379d42ed92b>\u001b[0m in \u001b[0;36mtrain_and_evaluate\u001b[0;34m(model, train_ds, val_ds, epochs, optimizer)\u001b[0m\n\u001b[1;32m     56\u001b[0m \u001b[0;34m\u001b[0m\u001b[0m\n\u001b[1;32m     57\u001b[0m     model.fit(\n\u001b[0;32m---> 58\u001b[0;31m         \u001b[0mtrain_ds\u001b[0m\u001b[0;34m,\u001b[0m \u001b[0mvalidation_data\u001b[0m\u001b[0;34m=\u001b[0m\u001b[0mval_ds\u001b[0m\u001b[0;34m,\u001b[0m \u001b[0mepochs\u001b[0m\u001b[0;34m=\u001b[0m\u001b[0mepochs\u001b[0m\u001b[0;34m,\u001b[0m\u001b[0mcallbacks\u001b[0m\u001b[0;34m=\u001b[0m\u001b[0;34m[\u001b[0m\u001b[0mreduce_lr\u001b[0m\u001b[0;34m,\u001b[0m \u001b[0mearly_stopping\u001b[0m\u001b[0;34m]\u001b[0m\u001b[0;34m\u001b[0m\u001b[0;34m\u001b[0m\u001b[0m\n\u001b[0m\u001b[1;32m     59\u001b[0m     )\n\u001b[1;32m     60\u001b[0m \u001b[0;34m\u001b[0m\u001b[0m\n",
            "\u001b[0;32m/usr/local/lib/python3.7/dist-packages/keras/utils/traceback_utils.py\u001b[0m in \u001b[0;36merror_handler\u001b[0;34m(*args, **kwargs)\u001b[0m\n\u001b[1;32m     62\u001b[0m     \u001b[0mfiltered_tb\u001b[0m \u001b[0;34m=\u001b[0m \u001b[0;32mNone\u001b[0m\u001b[0;34m\u001b[0m\u001b[0;34m\u001b[0m\u001b[0m\n\u001b[1;32m     63\u001b[0m     \u001b[0;32mtry\u001b[0m\u001b[0;34m:\u001b[0m\u001b[0;34m\u001b[0m\u001b[0;34m\u001b[0m\u001b[0m\n\u001b[0;32m---> 64\u001b[0;31m       \u001b[0;32mreturn\u001b[0m \u001b[0mfn\u001b[0m\u001b[0;34m(\u001b[0m\u001b[0;34m*\u001b[0m\u001b[0margs\u001b[0m\u001b[0;34m,\u001b[0m \u001b[0;34m**\u001b[0m\u001b[0mkwargs\u001b[0m\u001b[0;34m)\u001b[0m\u001b[0;34m\u001b[0m\u001b[0;34m\u001b[0m\u001b[0m\n\u001b[0m\u001b[1;32m     65\u001b[0m     \u001b[0;32mexcept\u001b[0m \u001b[0mException\u001b[0m \u001b[0;32mas\u001b[0m \u001b[0me\u001b[0m\u001b[0;34m:\u001b[0m  \u001b[0;31m# pylint: disable=broad-except\u001b[0m\u001b[0;34m\u001b[0m\u001b[0;34m\u001b[0m\u001b[0m\n\u001b[1;32m     66\u001b[0m       \u001b[0mfiltered_tb\u001b[0m \u001b[0;34m=\u001b[0m \u001b[0m_process_traceback_frames\u001b[0m\u001b[0;34m(\u001b[0m\u001b[0me\u001b[0m\u001b[0;34m.\u001b[0m\u001b[0m__traceback__\u001b[0m\u001b[0;34m)\u001b[0m\u001b[0;34m\u001b[0m\u001b[0;34m\u001b[0m\u001b[0m\n",
            "\u001b[0;32m/usr/local/lib/python3.7/dist-packages/keras/engine/training.py\u001b[0m in \u001b[0;36mfit\u001b[0;34m(self, x, y, batch_size, epochs, verbose, callbacks, validation_split, validation_data, shuffle, class_weight, sample_weight, initial_epoch, steps_per_epoch, validation_steps, validation_batch_size, validation_freq, max_queue_size, workers, use_multiprocessing)\u001b[0m\n\u001b[1;32m   1214\u001b[0m                 _r=1):\n\u001b[1;32m   1215\u001b[0m               \u001b[0mcallbacks\u001b[0m\u001b[0;34m.\u001b[0m\u001b[0mon_train_batch_begin\u001b[0m\u001b[0;34m(\u001b[0m\u001b[0mstep\u001b[0m\u001b[0;34m)\u001b[0m\u001b[0;34m\u001b[0m\u001b[0;34m\u001b[0m\u001b[0m\n\u001b[0;32m-> 1216\u001b[0;31m               \u001b[0mtmp_logs\u001b[0m \u001b[0;34m=\u001b[0m \u001b[0mself\u001b[0m\u001b[0;34m.\u001b[0m\u001b[0mtrain_function\u001b[0m\u001b[0;34m(\u001b[0m\u001b[0miterator\u001b[0m\u001b[0;34m)\u001b[0m\u001b[0;34m\u001b[0m\u001b[0;34m\u001b[0m\u001b[0m\n\u001b[0m\u001b[1;32m   1217\u001b[0m               \u001b[0;32mif\u001b[0m \u001b[0mdata_handler\u001b[0m\u001b[0;34m.\u001b[0m\u001b[0mshould_sync\u001b[0m\u001b[0;34m:\u001b[0m\u001b[0;34m\u001b[0m\u001b[0;34m\u001b[0m\u001b[0m\n\u001b[1;32m   1218\u001b[0m                 \u001b[0mcontext\u001b[0m\u001b[0;34m.\u001b[0m\u001b[0masync_wait\u001b[0m\u001b[0;34m(\u001b[0m\u001b[0;34m)\u001b[0m\u001b[0;34m\u001b[0m\u001b[0;34m\u001b[0m\u001b[0m\n",
            "\u001b[0;32m/usr/local/lib/python3.7/dist-packages/tensorflow/python/util/traceback_utils.py\u001b[0m in \u001b[0;36merror_handler\u001b[0;34m(*args, **kwargs)\u001b[0m\n\u001b[1;32m    148\u001b[0m     \u001b[0mfiltered_tb\u001b[0m \u001b[0;34m=\u001b[0m \u001b[0;32mNone\u001b[0m\u001b[0;34m\u001b[0m\u001b[0;34m\u001b[0m\u001b[0m\n\u001b[1;32m    149\u001b[0m     \u001b[0;32mtry\u001b[0m\u001b[0;34m:\u001b[0m\u001b[0;34m\u001b[0m\u001b[0;34m\u001b[0m\u001b[0m\n\u001b[0;32m--> 150\u001b[0;31m       \u001b[0;32mreturn\u001b[0m \u001b[0mfn\u001b[0m\u001b[0;34m(\u001b[0m\u001b[0;34m*\u001b[0m\u001b[0margs\u001b[0m\u001b[0;34m,\u001b[0m \u001b[0;34m**\u001b[0m\u001b[0mkwargs\u001b[0m\u001b[0;34m)\u001b[0m\u001b[0;34m\u001b[0m\u001b[0;34m\u001b[0m\u001b[0m\n\u001b[0m\u001b[1;32m    151\u001b[0m     \u001b[0;32mexcept\u001b[0m \u001b[0mException\u001b[0m \u001b[0;32mas\u001b[0m \u001b[0me\u001b[0m\u001b[0;34m:\u001b[0m\u001b[0;34m\u001b[0m\u001b[0;34m\u001b[0m\u001b[0m\n\u001b[1;32m    152\u001b[0m       \u001b[0mfiltered_tb\u001b[0m \u001b[0;34m=\u001b[0m \u001b[0m_process_traceback_frames\u001b[0m\u001b[0;34m(\u001b[0m\u001b[0me\u001b[0m\u001b[0;34m.\u001b[0m\u001b[0m__traceback__\u001b[0m\u001b[0;34m)\u001b[0m\u001b[0;34m\u001b[0m\u001b[0;34m\u001b[0m\u001b[0m\n",
            "\u001b[0;32m/usr/local/lib/python3.7/dist-packages/tensorflow/python/eager/def_function.py\u001b[0m in \u001b[0;36m__call__\u001b[0;34m(self, *args, **kwds)\u001b[0m\n\u001b[1;32m    908\u001b[0m \u001b[0;34m\u001b[0m\u001b[0m\n\u001b[1;32m    909\u001b[0m       \u001b[0;32mwith\u001b[0m \u001b[0mOptionalXlaContext\u001b[0m\u001b[0;34m(\u001b[0m\u001b[0mself\u001b[0m\u001b[0;34m.\u001b[0m\u001b[0m_jit_compile\u001b[0m\u001b[0;34m)\u001b[0m\u001b[0;34m:\u001b[0m\u001b[0;34m\u001b[0m\u001b[0;34m\u001b[0m\u001b[0m\n\u001b[0;32m--> 910\u001b[0;31m         \u001b[0mresult\u001b[0m \u001b[0;34m=\u001b[0m \u001b[0mself\u001b[0m\u001b[0;34m.\u001b[0m\u001b[0m_call\u001b[0m\u001b[0;34m(\u001b[0m\u001b[0;34m*\u001b[0m\u001b[0margs\u001b[0m\u001b[0;34m,\u001b[0m \u001b[0;34m**\u001b[0m\u001b[0mkwds\u001b[0m\u001b[0;34m)\u001b[0m\u001b[0;34m\u001b[0m\u001b[0;34m\u001b[0m\u001b[0m\n\u001b[0m\u001b[1;32m    911\u001b[0m \u001b[0;34m\u001b[0m\u001b[0m\n\u001b[1;32m    912\u001b[0m       \u001b[0mnew_tracing_count\u001b[0m \u001b[0;34m=\u001b[0m \u001b[0mself\u001b[0m\u001b[0;34m.\u001b[0m\u001b[0mexperimental_get_tracing_count\u001b[0m\u001b[0;34m(\u001b[0m\u001b[0;34m)\u001b[0m\u001b[0;34m\u001b[0m\u001b[0;34m\u001b[0m\u001b[0m\n",
            "\u001b[0;32m/usr/local/lib/python3.7/dist-packages/tensorflow/python/eager/def_function.py\u001b[0m in \u001b[0;36m_call\u001b[0;34m(self, *args, **kwds)\u001b[0m\n\u001b[1;32m    940\u001b[0m       \u001b[0;31m# In this case we have created variables on the first call, so we run the\u001b[0m\u001b[0;34m\u001b[0m\u001b[0;34m\u001b[0m\u001b[0;34m\u001b[0m\u001b[0m\n\u001b[1;32m    941\u001b[0m       \u001b[0;31m# defunned version which is guaranteed to never create variables.\u001b[0m\u001b[0;34m\u001b[0m\u001b[0;34m\u001b[0m\u001b[0;34m\u001b[0m\u001b[0m\n\u001b[0;32m--> 942\u001b[0;31m       \u001b[0;32mreturn\u001b[0m \u001b[0mself\u001b[0m\u001b[0;34m.\u001b[0m\u001b[0m_stateless_fn\u001b[0m\u001b[0;34m(\u001b[0m\u001b[0;34m*\u001b[0m\u001b[0margs\u001b[0m\u001b[0;34m,\u001b[0m \u001b[0;34m**\u001b[0m\u001b[0mkwds\u001b[0m\u001b[0;34m)\u001b[0m  \u001b[0;31m# pylint: disable=not-callable\u001b[0m\u001b[0;34m\u001b[0m\u001b[0;34m\u001b[0m\u001b[0m\n\u001b[0m\u001b[1;32m    943\u001b[0m     \u001b[0;32melif\u001b[0m \u001b[0mself\u001b[0m\u001b[0;34m.\u001b[0m\u001b[0m_stateful_fn\u001b[0m \u001b[0;32mis\u001b[0m \u001b[0;32mnot\u001b[0m \u001b[0;32mNone\u001b[0m\u001b[0;34m:\u001b[0m\u001b[0;34m\u001b[0m\u001b[0;34m\u001b[0m\u001b[0m\n\u001b[1;32m    944\u001b[0m       \u001b[0;31m# Release the lock early so that multiple threads can perform the call\u001b[0m\u001b[0;34m\u001b[0m\u001b[0;34m\u001b[0m\u001b[0;34m\u001b[0m\u001b[0m\n",
            "\u001b[0;32m/usr/local/lib/python3.7/dist-packages/tensorflow/python/eager/function.py\u001b[0m in \u001b[0;36m__call__\u001b[0;34m(self, *args, **kwargs)\u001b[0m\n\u001b[1;32m   3129\u001b[0m        filtered_flat_args) = self._maybe_define_function(args, kwargs)\n\u001b[1;32m   3130\u001b[0m     return graph_function._call_flat(\n\u001b[0;32m-> 3131\u001b[0;31m         filtered_flat_args, captured_inputs=graph_function.captured_inputs)  # pylint: disable=protected-access\n\u001b[0m\u001b[1;32m   3132\u001b[0m \u001b[0;34m\u001b[0m\u001b[0m\n\u001b[1;32m   3133\u001b[0m   \u001b[0;34m@\u001b[0m\u001b[0mproperty\u001b[0m\u001b[0;34m\u001b[0m\u001b[0;34m\u001b[0m\u001b[0m\n",
            "\u001b[0;32m/usr/local/lib/python3.7/dist-packages/tensorflow/python/eager/function.py\u001b[0m in \u001b[0;36m_call_flat\u001b[0;34m(self, args, captured_inputs, cancellation_manager)\u001b[0m\n\u001b[1;32m   1958\u001b[0m       \u001b[0;31m# No tape is watching; skip to running the function.\u001b[0m\u001b[0;34m\u001b[0m\u001b[0;34m\u001b[0m\u001b[0;34m\u001b[0m\u001b[0m\n\u001b[1;32m   1959\u001b[0m       return self._build_call_outputs(self._inference_function.call(\n\u001b[0;32m-> 1960\u001b[0;31m           ctx, args, cancellation_manager=cancellation_manager))\n\u001b[0m\u001b[1;32m   1961\u001b[0m     forward_backward = self._select_forward_and_backward_functions(\n\u001b[1;32m   1962\u001b[0m         \u001b[0margs\u001b[0m\u001b[0;34m,\u001b[0m\u001b[0;34m\u001b[0m\u001b[0;34m\u001b[0m\u001b[0m\n",
            "\u001b[0;32m/usr/local/lib/python3.7/dist-packages/tensorflow/python/eager/function.py\u001b[0m in \u001b[0;36mcall\u001b[0;34m(self, ctx, args, cancellation_manager)\u001b[0m\n\u001b[1;32m    601\u001b[0m               \u001b[0minputs\u001b[0m\u001b[0;34m=\u001b[0m\u001b[0margs\u001b[0m\u001b[0;34m,\u001b[0m\u001b[0;34m\u001b[0m\u001b[0;34m\u001b[0m\u001b[0m\n\u001b[1;32m    602\u001b[0m               \u001b[0mattrs\u001b[0m\u001b[0;34m=\u001b[0m\u001b[0mattrs\u001b[0m\u001b[0;34m,\u001b[0m\u001b[0;34m\u001b[0m\u001b[0;34m\u001b[0m\u001b[0m\n\u001b[0;32m--> 603\u001b[0;31m               ctx=ctx)\n\u001b[0m\u001b[1;32m    604\u001b[0m         \u001b[0;32melse\u001b[0m\u001b[0;34m:\u001b[0m\u001b[0;34m\u001b[0m\u001b[0;34m\u001b[0m\u001b[0m\n\u001b[1;32m    605\u001b[0m           outputs = execute.execute_with_cancellation(\n",
            "\u001b[0;32m/usr/local/lib/python3.7/dist-packages/tensorflow/python/eager/execute.py\u001b[0m in \u001b[0;36mquick_execute\u001b[0;34m(op_name, num_outputs, inputs, attrs, ctx, name)\u001b[0m\n\u001b[1;32m     57\u001b[0m     \u001b[0mctx\u001b[0m\u001b[0;34m.\u001b[0m\u001b[0mensure_initialized\u001b[0m\u001b[0;34m(\u001b[0m\u001b[0;34m)\u001b[0m\u001b[0;34m\u001b[0m\u001b[0;34m\u001b[0m\u001b[0m\n\u001b[1;32m     58\u001b[0m     tensors = pywrap_tfe.TFE_Py_Execute(ctx._handle, device_name, op_name,\n\u001b[0;32m---> 59\u001b[0;31m                                         inputs, attrs, num_outputs)\n\u001b[0m\u001b[1;32m     60\u001b[0m   \u001b[0;32mexcept\u001b[0m \u001b[0mcore\u001b[0m\u001b[0;34m.\u001b[0m\u001b[0m_NotOkStatusException\u001b[0m \u001b[0;32mas\u001b[0m \u001b[0me\u001b[0m\u001b[0;34m:\u001b[0m\u001b[0;34m\u001b[0m\u001b[0;34m\u001b[0m\u001b[0m\n\u001b[1;32m     61\u001b[0m     \u001b[0;32mif\u001b[0m \u001b[0mname\u001b[0m \u001b[0;32mis\u001b[0m \u001b[0;32mnot\u001b[0m \u001b[0;32mNone\u001b[0m\u001b[0;34m:\u001b[0m\u001b[0;34m\u001b[0m\u001b[0;34m\u001b[0m\u001b[0m\n",
            "\u001b[0;31mKeyboardInterrupt\u001b[0m: "
          ]
        }
      ]
    },
    {
      "cell_type": "code",
      "metadata": {
        "colab": {
          "background_save": true,
          "base_uri": "https://localhost:8080/"
        },
        "id": "x5kxu8ocV_Nm",
        "outputId": "f455edf1-e2a9-44ac-e22b-9656de2c8926"
      },
      "source": [
        "for layer in smaller_res_model.layers[3].layers:\n",
        "    layer.trainable = True\n",
        "\n",
        "# smaller_res_model.layers[2].get_layer(\"top_bn\").trainable = True\n",
        "\n",
        "smaller_res_model = train_and_evaluate(\n",
        "    smaller_res_model, initial_train_dataset, initial_val_dataset, 30 \n",
        ")"
      ],
      "execution_count": null,
      "outputs": [
        {
          "name": "stdout",
          "output_type": "stream",
          "text": [
            "Epoch 1/30\n",
            "233/233 [==============================] - 1999s 5s/step - loss: 440.4486 - out_1_loss: 437.1101 - out_2_loss: 3.3384 - val_loss: 455.2380 - val_out_1_loss: 451.9360 - val_out_2_loss: 3.3021 - lr: 0.0010\n",
            "Epoch 2/30\n",
            "233/233 [==============================] - 1991s 5s/step - loss: 435.2693 - out_1_loss: 432.1313 - out_2_loss: 3.1381 - val_loss: 456.2872 - val_out_1_loss: 452.9588 - val_out_2_loss: 3.3285 - lr: 0.0010\n",
            "Epoch 3/30\n",
            "233/233 [==============================] - 2016s 6s/step - loss: 428.6409 - out_1_loss: 425.6072 - out_2_loss: 3.0335 - val_loss: 455.1419 - val_out_1_loss: 451.9359 - val_out_2_loss: 3.2062 - lr: 0.0010\n",
            "Epoch 4/30\n",
            "233/233 [==============================] - 1985s 5s/step - loss: 428.4705 - out_1_loss: 425.5032 - out_2_loss: 2.9671 - val_loss: 451.2696 - val_out_1_loss: 448.0154 - val_out_2_loss: 3.2542 - lr: 0.0010\n",
            "Epoch 5/30\n",
            " 49/233 [=====>........................] - ETA: 15:31 - loss: 432.7491 - out_1_loss: 429.8974 - out_2_loss: 2.8517"
          ]
        }
      ]
    },
    {
      "cell_type": "markdown",
      "metadata": {
        "id": "7gI0RixQ2f23"
      },
      "source": [
        "### Freeze all the layers except for the final Batch Normalization layer\n",
        "\n",
        "For fine-tuning, we train only two layers:\n",
        "\n",
        "* The final Batch Normalization ([Ioffe et al.](https://arxiv.org/abs/1502.03167)) layer.\n",
        "* The classification layer.\n",
        "\n",
        "We are unfreezing the final Batch Normalization layer to compensate for the change in\n",
        "activation statistics before the global average pooling layer. As shown in\n",
        "[the paper](https://arxiv.org/abs/1906.06423), unfreezing the final Batch\n",
        "Normalization layer is enough.\n",
        "\n",
        "For a comprehensive guide on fine-tuning models in Keras, refer to\n",
        "[this tutorial](https://keras.io/guides/transfer_learning/)."
      ]
    },
    {
      "cell_type": "code",
      "metadata": {
        "id": "TN4zZSIPKbiQ"
      },
      "source": [
        "# for layer in smaller_res_model.layers[2].layers:\n",
        "#   print(layer.name)"
      ],
      "execution_count": null,
      "outputs": []
    },
    {
      "cell_type": "code",
      "metadata": {
        "id": "qWPY6d36KHGn"
      },
      "source": [
        "finetune_train_dataset = make_dataset(train_IR, train=True, image_size=bigger_size)\n",
        "finetune_val_dataset = make_dataset(test_IR, train=False, image_size=bigger_size)"
      ],
      "execution_count": null,
      "outputs": []
    },
    {
      "cell_type": "code",
      "metadata": {
        "id": "e98GyteH2f24"
      },
      "source": [
        "for layer in smaller_res_model.layers[2].layers:\n",
        "    layer.trainable = False\n",
        "\n",
        "smaller_res_model.layers[2].get_layer(\"top_bn\").trainable = True\n",
        "\n",
        "epochs = 10\n",
        "\n",
        "# Use a lower learning rate during fine-tuning.\n",
        "bigger_res_model = train_and_evaluate(\n",
        "    smaller_res_model,\n",
        "    finetune_train_dataset,\n",
        "    finetune_val_dataset,\n",
        "    epochs\n",
        ")"
      ],
      "execution_count": null,
      "outputs": []
    },
    {
      "cell_type": "code",
      "metadata": {
        "id": "oWr_48okdXUt"
      },
      "source": [
        "train_and_evaluate(\n",
        "    bigger_res_model,\n",
        "    initial_train_dataset,\n",
        "    initial_val_dataset,\n",
        "    1,\n",
        "    learning_rate=1e-4,\n",
        ")"
      ],
      "execution_count": null,
      "outputs": []
    },
    {
      "cell_type": "markdown",
      "metadata": {
        "id": "JsMof43L2f25"
      },
      "source": [
        "## Experiment 2: Train a model on 224x224 resolution from scratch\n",
        "\n",
        "Now, we train another model from scratch on the larger resolution dataset. Recall that\n",
        "the augmentation transforms used in this dataset are different from before."
      ]
    },
    {
      "cell_type": "code",
      "metadata": {
        "id": "UOcInSgg2f26"
      },
      "source": [
        "epochs = 30\n",
        "\n",
        "vanilla_bigger_res_model = get_training_model()\n",
        "vanilla_bigger_res_model = train_and_evaluate(\n",
        "    vanilla_bigger_res_model, vanilla_train_dataset, vanilla_val_dataset, epochs\n",
        ")"
      ],
      "execution_count": null,
      "outputs": []
    },
    {
      "cell_type": "markdown",
      "metadata": {
        "id": "edabx4gZ2f26"
      },
      "source": [
        "As we can notice from the above cells, FixRes leads to a better performance. Another\n",
        "advantage of FixRes is the improved total training time and reduction in GPU memory usage.\n",
        "FixRes is model-agnostic, you can use it on any image classification model\n",
        "to potentially boost performance.\n",
        "\n",
        "You can find more results\n",
        "[here](https://tensorboard.dev/experiment/BQOg28w0TlmvuJYeqsVntw)\n",
        "that were gathered by running the same code with different random seeds."
      ]
    },
    {
      "cell_type": "markdown",
      "metadata": {
        "id": "qTXFOxLlA3J_"
      },
      "source": [
        "## Big t"
      ]
    },
    {
      "cell_type": "code",
      "metadata": {
        "id": "sqJ5fiBuA7cy"
      },
      "source": [
        "bit_model_url = \"https://tfhub.dev/google/bit/m-r50x1/1\"\n",
        "bit_module = hub.KerasLayer(bit_model_url)"
      ],
      "execution_count": null,
      "outputs": []
    },
    {
      "cell_type": "code",
      "metadata": {
        "id": "ZpvP80GW3L6x"
      },
      "source": [
        "\n",
        "class MyBiTModel(keras.Model):\n",
        "    def __init__(self, num_classes, module, **kwargs):\n",
        "        super().__init__(**kwargs)\n",
        "\n",
        "        self.num_classes = num_classes\n",
        "        self.head = keras.layers.Dense(num_classes, kernel_initializer=\"zeros\")\n",
        "        self.bit_model = module\n",
        "\n",
        "    def call(self, images):\n",
        "        bit_embedding = self.bit_model(images)\n",
        "        return self.head(bit_embedding)\n",
        "\n",
        "\n",
        "model = MyBiTModel(num_classes=1, module=bit_module)"
      ],
      "execution_count": null,
      "outputs": []
    },
    {
      "cell_type": "code",
      "metadata": {
        "id": "R_x-2AAiBd8l"
      },
      "source": [
        "RESIZE_TO = 384\n",
        "CROP_TO = 224\n",
        "BATCH_SIZE = 64\n",
        "STEPS_PER_EPOCH = 10\n",
        "AUTO = tf.data.AUTOTUNE  # optimise the pipeline performance\n",
        "NUM_CLASSES = 1  # number of classes\n",
        "SCHEDULE_LENGTH = (\n",
        "    500  # we will train on lower resolution images and will still attain good results\n",
        ")\n",
        "SCHEDULE_BOUNDARIES = [\n",
        "    200,\n",
        "    300,\n",
        "    400,\n",
        "]  # more the dataset size the schedule length increase"
      ],
      "execution_count": null,
      "outputs": []
    },
    {
      "cell_type": "code",
      "metadata": {
        "id": "jKujCDOSBRFe"
      },
      "source": [
        "learning_rate = 0.003 * BATCH_SIZE / 512\n",
        "\n",
        "# Decay learning rate by a factor of 10 at SCHEDULE_BOUNDARIES.\n",
        "lr_schedule = keras.optimizers.schedules.PiecewiseConstantDecay(\n",
        "    boundaries=SCHEDULE_BOUNDARIES,\n",
        "    values=[\n",
        "        learning_rate,\n",
        "        learning_rate * 0.1,\n",
        "        learning_rate * 0.01,\n",
        "        learning_rate * 0.001,\n",
        "    ],\n",
        ")\n",
        "optimizer = keras.optimizers.SGD(learning_rate=lr_schedule, momentum=0.9)\n",
        "\n",
        "loss_fn = keras.losses.MeanSquaredError(from_logits=True)"
      ],
      "execution_count": null,
      "outputs": []
    },
    {
      "cell_type": "markdown",
      "metadata": {
        "id": "bfibYC36BQJB"
      },
      "source": [
        ""
      ]
    },
    {
      "cell_type": "markdown",
      "metadata": {
        "id": "Dfz4YDfJoPkN"
      },
      "source": [
        "## Transformer"
      ]
    },
    {
      "cell_type": "code",
      "metadata": {
        "id": "YJmTLgVgoUv_"
      },
      "source": [
        "class TransformerBlock(layers.Layer):\n",
        "    def __init__(self, embed_dim, num_heads, ff_dim, rate=0.1):\n",
        "        super(TransformerBlock, self).__init__()\n",
        "        self.att = layers.MultiHeadAttention(num_heads=num_heads, key_dim=embed_dim)\n",
        "        self.ffn = keras.Sequential(\n",
        "            [layers.Dense(ff_dim, activation=\"relu\"), layers.Dense(embed_dim),]\n",
        "        )\n",
        "        self.layernorm1 = layers.LayerNormalization(epsilon=1e-6)\n",
        "        self.layernorm2 = layers.LayerNormalization(epsilon=1e-6)\n",
        "        self.dropout1 = layers.Dropout(rate)\n",
        "        self.dropout2 = layers.Dropout(rate)\n",
        "\n",
        "    def call(self, inputs, training):\n",
        "        attn_output = self.att(inputs, inputs)\n",
        "        attn_output = self.dropout1(attn_output, training=training)\n",
        "        out1 = self.layernorm1(inputs + attn_output)\n",
        "        ffn_output = self.ffn(out1)\n",
        "        ffn_output = self.dropout2(ffn_output, training=training)\n",
        "        return self.layernorm2(out1 + ffn_output)"
      ],
      "execution_count": null,
      "outputs": []
    },
    {
      "cell_type": "code",
      "metadata": {
        "id": "cQN-kzS_o4M6"
      },
      "source": [
        "embed_dim = 12  # Embedding size for each token\n",
        "num_heads = 2  # Number of attention heads\n",
        "ff_dim = 32  # Hidden layer size in feed forward network inside transformer\n",
        "maxlen = 200\n",
        "\n",
        "inputs = layers.Input(shape=(maxlen,))\n",
        "embedding_layer = TokenAndPositionEmbedding(maxlen, vocab_size, embed_dim)\n",
        "x = embedding_layer(inputs)\n",
        "transformer_block = TransformerBlock(embed_dim, num_heads, ff_dim)\n",
        "x = transformer_block(inputs)\n",
        "x = layers.GlobalAveragePooling1D()(x)\n",
        "x = layers.Dropout(0.1)(x)\n",
        "x = layers.Dense(20, activation=\"relu\")(x)\n",
        "x = layers.Dropout(0.1)(x)\n",
        "outputs = layers.Dense(1, activation=\"linear\")(x)\n",
        "\n",
        "model = keras.Model(inputs=inputs, outputs=outputs)"
      ],
      "execution_count": null,
      "outputs": []
    },
    {
      "cell_type": "markdown",
      "metadata": {
        "id": "Vdlsj36Ah8ik"
      },
      "source": [
        "## extra"
      ]
    },
    {
      "cell_type": "code",
      "metadata": {
        "id": "ua_1Sx6wSxYi"
      },
      "source": [
        "def prep_fn(img):\n",
        "    img_data = image.img_to_array(img) \n",
        "    samples = np.expand_dims(img_data, axis=0)\n",
        "    img = img.astype(np.float64) \n",
        "    img = (img - 0.5) * 2\n",
        "    return img\n",
        "\n",
        "\n",
        "train_generator = tf.keras.preprocessing.image.ImageDataGenerator(\n",
        "    preprocessing_function=prep_fn,\n",
        "    width_shift_range=[-20,20], \n",
        "    height_shift_range=[-20, 20], \n",
        "    brightness_range=[0.8,1.2], \n",
        "    zoom_range=[0.8,1.2]\n",
        "    )\n",
        "\n",
        "# test_generator = tf.keras.preprocessing.image.ImageDataGenerator(preprocessing_function=prep_fn)"
      ],
      "execution_count": null,
      "outputs": []
    },
    {
      "cell_type": "code",
      "metadata": {
        "id": "Ng7B6voTvH3v"
      },
      "source": [
        "train_ICge = train_generator.flow_from_dataframe(\n",
        "    dataframe=df_IC,\n",
        "    x_col= 0,\n",
        "    y_col= 1,\n",
        "    target_size=(smaller_size, smaller_size),\n",
        "    color_mode='rgb',\n",
        "    class_mode='raw',\n",
        "    batch_size=batch_size,\n",
        "    shuffle=True,\n",
        "    seed=42,\n",
        "    subset='training'\n",
        ")"
      ],
      "execution_count": null,
      "outputs": []
    },
    {
      "cell_type": "code",
      "metadata": {
        "id": "_905eewLzsUG"
      },
      "source": [
        "# test_ICge = test_generator.flow_from_dataframe(\n",
        "#     dataframe=test_IC,\n",
        "#     x_col= 0,\n",
        "#     y_col= 1,\n",
        "#     target_size=(smaller_size, smaller_size),\n",
        "#     color_mode='rgb',\n",
        "#     class_mode='raw',\n",
        "#     batch_size=128,\n",
        "#     shuffle=False\n",
        "# )"
      ],
      "execution_count": null,
      "outputs": []
    },
    {
      "cell_type": "code",
      "metadata": {
        "id": "rVNmjzqe6Jbv"
      },
      "source": [
        "def label_image(img_file, label):\n",
        "\n",
        "    img = tf.io.read_file(img_file)\n",
        "    image = tf.image.decode_jpeg(img, channels=3)\n",
        "    # image = tf.image.resize(img, (smaller_size, smaller_size))\n",
        "    # channels = image.shape[-1]\n",
        "    begin, size, _ = tf.image.sample_distorted_bounding_box(\n",
        "        tf.shape(image),\n",
        "        tf.zeros([0, 0, 4], tf.float32),\n",
        "        area_range=(0.05, 1.0),\n",
        "        min_object_covered=0,\n",
        "        use_image_if_no_bounding_boxes=True,\n",
        "    )\n",
        "    image = tf.slice(image, begin, size)\n",
        "\n",
        "    # image.set_shape([None, None, channels])\n",
        "    image = tf.image.resize(image, [smaller_size, smaller_size])\n",
        "    image = tf.image.random_flip_left_right(image)\n",
        "    # # img = tf.image.random_crop(img, (smaller_size, smaller_size, 3))\n",
        "    # # image = tf.cast(img, dtype='float32')# / 255.0\n",
        "    # # mean = tf.expand_dims(tf.convert_to_tensor([0.3684, 0.3684, 0.3684], dtype=DTYPE), axis=0)\n",
        "    # # std = tf.expand_dims(tf.convert_to_tensor([0.0740, 0.0740, 0.0740], dtype=DTYPE), axis=0)\n",
        "    # # img = (img-mean)/std\n",
        "    # # label = tf.keras.utils.to_categorical(label, num_classes=4096, dtype='int32')\n",
        "    # if tune:\n",
        "    #   image = tf.image.resize(image, [size_for_resizing, size_for_resizing])\n",
        "    #   if train:\n",
        "    #       image = tf.image.random_flip_left_right(image)\n",
        "    #   image = central_crop_layer(image[None, ...])[0]\n",
        "    # else:\n",
        "    #   if train:\n",
        "\n",
        "    #   else:\n",
        "    #       image = tf.image.resize(image, [image_size, image_size]) \n",
        "    # if classes:\n",
        "    # label = tf.raw_ops.OneHot(indices=label, depth=num_classes, on_value=1.0, off_value=0)\n",
        "    # label = tf.cast(label, dtype='float32')\n",
        "\n",
        "    return image, label"
      ],
      "execution_count": null,
      "outputs": []
    },
    {
      "cell_type": "code",
      "metadata": {
        "id": "cT0Iq_Oh8GWu"
      },
      "source": [
        "from sklearn import preprocessing\n",
        "AUTOTUNE = tf.data.experimental.AUTOTUNE\n",
        "# le = preprocessing.LabelEncoder()\n",
        "# y = le.fit_transform(train_IC[1].values)"
      ],
      "execution_count": null,
      "outputs": []
    },
    {
      "cell_type": "code",
      "metadata": {
        "id": "3lTVises5LUN"
      },
      "source": [
        "ds_label_train = tf.data.Dataset.from_tensor_slices((train_IR[0].values, np.array(train_IR[0:len(train_IR)][1], dtype='int32')))\n",
        "ds_label_train = ds_label_train \\\n",
        "    .map(lambda x, y: label_image(x, y, train), num_parallel_calls=AUTOTUNE) \\\n",
        "    .shuffle(buffer_size=500) \\\n",
        "    .batch(128, drop_remainder=True) \\\n",
        "    .prefetch(AUTOTUNE)\n",
        "\n",
        "\n",
        "    "
      ],
      "execution_count": null,
      "outputs": []
    },
    {
      "cell_type": "code",
      "metadata": {
        "id": "5X13yP_tBs8Y"
      },
      "source": [
        "# y_test = le.fit_transform(test_IC[1].values)"
      ],
      "execution_count": null,
      "outputs": []
    },
    {
      "cell_type": "code",
      "metadata": {
        "id": "9edRGhsKBnHC"
      },
      "source": [
        "ds_label_test = tf.data.Dataset.from_tensor_slices((test_IR[0].values, np.array(test_IR[0:len(test_IR)][1], dtype='int32')))\n",
        "ds_label_test = ds_label_test \\\n",
        "    .map(label_image, num_parallel_calls=AUTOTUNE) \\\n",
        "    .shuffle(buffer_size=500) \\\n",
        "    .batch(128, drop_remainder=True) \\\n",
        "    .prefetch(AUTOTUNE)"
      ],
      "execution_count": null,
      "outputs": []
    },
    {
      "cell_type": "markdown",
      "metadata": {
        "id": "jVvoC6WY2f2w"
      },
      "source": [
        "Notice how the augmentation transforms vary for the kind of dataset we are preparing."
      ]
    },
    {
      "cell_type": "markdown",
      "metadata": {
        "id": "tI5PXEbE0IdG"
      },
      "source": [
        "# Transforms"
      ]
    },
    {
      "cell_type": "markdown",
      "metadata": {
        "id": "eS1B_yNpzj5k"
      },
      "source": [
        "## Prepare the data"
      ]
    },
    {
      "cell_type": "code",
      "metadata": {
        "id": "i2Jn_rjhzj5l"
      },
      "source": [
        "num_classes = 100\n",
        "input_shape = (None, None, 3)\n",
        "\n",
        "(x_train, y_train), (x_test, y_test) = keras.datasets.cifar100.load_data()\n",
        "\n",
        "print(f\"x_train shape: {x_train.shape} - y_train shape: {y_train.shape}\")\n",
        "print(f\"x_test shape: {x_test.shape} - y_test shape: {y_test.shape}\")\n"
      ],
      "execution_count": null,
      "outputs": []
    },
    {
      "cell_type": "markdown",
      "metadata": {
        "id": "Tgd7edhhzj5m"
      },
      "source": [
        "## Configure the hyperparameters"
      ]
    },
    {
      "cell_type": "code",
      "metadata": {
        "id": "iPIJ-6-Yzj5n"
      },
      "source": [
        "learning_rate = 0.001\n",
        "weight_decay = 0.0001\n",
        "batch_size = 256\n",
        "num_epochs = 100\n",
        "image_size = 72  # We'll resize input images to this size\n",
        "patch_size = 6  # Size of the patches to be extract from the input images\n",
        "num_patches = (image_size // patch_size) ** 2\n",
        "projection_dim = 64\n",
        "num_heads = 4\n",
        "transformer_units = [\n",
        "    projection_dim * 2,\n",
        "    projection_dim,\n",
        "]  # Size of the transformer layers\n",
        "transformer_layers = 8\n",
        "mlp_head_units = [2048, 1024]  # Size of the dense layers of the final classifier\n"
      ],
      "execution_count": null,
      "outputs": []
    },
    {
      "cell_type": "markdown",
      "metadata": {
        "id": "F44G8o_Czj5p"
      },
      "source": [
        "## Use data augmentation"
      ]
    },
    {
      "cell_type": "code",
      "metadata": {
        "id": "am-rkA90zj5q"
      },
      "source": [
        "data_augmentation = keras.Sequential(\n",
        "    [\n",
        "        layers.Normalization(),\n",
        "        layers.Resizing(image_size, image_size),\n",
        "        layers.RandomFlip(\"horizontal\"),\n",
        "        layers.RandomRotation(factor=0.02),\n",
        "        layers.RandomZoom(\n",
        "            height_factor=0.2, width_factor=0.2\n",
        "        ),\n",
        "    ],\n",
        "    name=\"data_augmentation\",\n",
        ")\n",
        "# Compute the mean and the variance of the training data for normalization.\n",
        "data_augmentation.layers[0].adapt(x_train)\n"
      ],
      "execution_count": null,
      "outputs": []
    },
    {
      "cell_type": "markdown",
      "metadata": {
        "id": "Ph-MvauSzj5r"
      },
      "source": [
        "## Implement multilayer perceptron (MLP)"
      ]
    },
    {
      "cell_type": "code",
      "metadata": {
        "id": "Blhuzbogzj5r"
      },
      "source": [
        "\n",
        "def mlp(x, hidden_units, dropout_rate):\n",
        "    for units in hidden_units:\n",
        "        x = layers.Dense(units, activation=tf.nn.gelu)(x)\n",
        "        x = layers.Dropout(dropout_rate)(x)\n",
        "    return x\n"
      ],
      "execution_count": null,
      "outputs": []
    },
    {
      "cell_type": "markdown",
      "metadata": {
        "id": "mP1lvk9hzj5s"
      },
      "source": [
        "## Implement patch creation as a layer"
      ]
    },
    {
      "cell_type": "code",
      "metadata": {
        "id": "avP4mWCezj5t"
      },
      "source": [
        "\n",
        "class Patches(layers.Layer):\n",
        "    def __init__(self, patch_size):\n",
        "        super(Patches, self).__init__()\n",
        "        self.patch_size = patch_size\n",
        "\n",
        "    def call(self, images):\n",
        "        batch_size = tf.shape(images)[0]\n",
        "        patches = tf.image.extract_patches(\n",
        "            images=images,\n",
        "            sizes=[1, self.patch_size, self.patch_size, 1],\n",
        "            strides=[1, self.patch_size, self.patch_size, 1],\n",
        "            rates=[1, 1, 1, 1],\n",
        "            padding=\"VALID\",\n",
        "        )\n",
        "        patch_dims = patches.shape[-1]\n",
        "        patches = tf.reshape(patches, [batch_size, -1, patch_dims])\n",
        "        return patches\n"
      ],
      "execution_count": null,
      "outputs": []
    },
    {
      "cell_type": "markdown",
      "metadata": {
        "id": "D1h_cZeuzj5u"
      },
      "source": [
        "Let's display patches for a sample image"
      ]
    },
    {
      "cell_type": "code",
      "metadata": {
        "id": "UvXUE4GWzj5v"
      },
      "source": [
        "import matplotlib.pyplot as plt\n",
        "\n",
        "plt.figure(figsize=(4, 4))\n",
        "image = x_train[np.random.choice(range(x_train.shape[0]))]\n",
        "plt.imshow(image.astype(\"uint8\"))\n",
        "plt.axis(\"off\")\n",
        "\n",
        "resized_image = tf.image.resize(\n",
        "    tf.convert_to_tensor([image]), size=(image_size, image_size)\n",
        ")\n",
        "patches = Patches(patch_size)(resized_image)\n",
        "print(f\"Image size: {image_size} X {image_size}\")\n",
        "print(f\"Patch size: {patch_size} X {patch_size}\")\n",
        "print(f\"Patches per image: {patches.shape[1]}\")\n",
        "print(f\"Elements per patch: {patches.shape[-1]}\")\n",
        "\n",
        "n = int(np.sqrt(patches.shape[1]))\n",
        "plt.figure(figsize=(4, 4))\n",
        "for i, patch in enumerate(patches[0]):\n",
        "    ax = plt.subplot(n, n, i + 1)\n",
        "    patch_img = tf.reshape(patch, (patch_size, patch_size, 3))\n",
        "    plt.imshow(patch_img.numpy().astype(\"uint8\"))\n",
        "    plt.axis(\"off\")"
      ],
      "execution_count": null,
      "outputs": []
    },
    {
      "cell_type": "markdown",
      "metadata": {
        "id": "gr2BgWkvzj5w"
      },
      "source": [
        "## Implement the patch encoding layer\n",
        "\n",
        "The `PatchEncoder` layer will linearly transform a patch by projecting it into a\n",
        "vector of size `projection_dim`. In addition, it adds a learnable position\n",
        "embedding to the projected vector."
      ]
    },
    {
      "cell_type": "code",
      "metadata": {
        "id": "9s5pLVO_zj5x"
      },
      "source": [
        "\n",
        "class PatchEncoder(layers.Layer):\n",
        "    def __init__(self, num_patches, projection_dim):\n",
        "        super(PatchEncoder, self).__init__()\n",
        "        self.num_patches = num_patches\n",
        "        self.projection = layers.Dense(units=projection_dim)\n",
        "        self.position_embedding = layers.Embedding(\n",
        "            input_dim=num_patches, output_dim=projection_dim\n",
        "        )\n",
        "\n",
        "    def call(self, patch):\n",
        "        positions = tf.range(start=0, limit=self.num_patches, delta=1)\n",
        "        encoded = self.projection(patch) + self.position_embedding(positions)\n",
        "        return encoded\n"
      ],
      "execution_count": null,
      "outputs": []
    },
    {
      "cell_type": "markdown",
      "metadata": {
        "id": "rjicFp7Rzj5y"
      },
      "source": [
        "## Build the ViT model\n",
        "\n",
        "The ViT model consists of multiple Transformer blocks,\n",
        "which use the `layers.MultiHeadAttention` layer as a self-attention mechanism\n",
        "applied to the sequence of patches. The Transformer blocks produce a\n",
        "`[batch_size, num_patches, projection_dim]` tensor, which is processed via an\n",
        "classifier head with softmax to produce the final class probabilities output.\n",
        "\n",
        "Unlike the technique described in the [paper](https://arxiv.org/abs/2010.11929),\n",
        "which prepends a learnable embedding to the sequence of encoded patches to serve\n",
        "as the image representation, all the outputs of the final Transformer block are\n",
        "reshaped with `layers.Flatten()` and used as the image\n",
        "representation input to the classifier head.\n",
        "Note that the `layers.GlobalAveragePooling1D` layer\n",
        "could also be used instead to aggregate the outputs of the Transformer block,\n",
        "especially when the number of patches and the projection dimensions are large."
      ]
    },
    {
      "cell_type": "code",
      "metadata": {
        "id": "NxDHmwU-zj5z"
      },
      "source": [
        "\n",
        "def create_vit_classifier():\n",
        "    inputs = layers.Input(shape=input_shape)\n",
        "    # Augment data.\n",
        "    augmented = data_augmentation(inputs)\n",
        "    # Create patches.\n",
        "    patches = Patches(patch_size)(augmented)\n",
        "    # Encode patches.\n",
        "    encoded_patches = PatchEncoder(num_patches, projection_dim)(patches)\n",
        "\n",
        "    # Create multiple layers of the Transformer block.\n",
        "    for _ in range(transformer_layers):\n",
        "        # Layer normalization 1.\n",
        "        x1 = layers.LayerNormalization(epsilon=1e-6)(encoded_patches)\n",
        "        # Create a multi-head attention layer.\n",
        "        attention_output = layers.MultiHeadAttention(\n",
        "            num_heads=num_heads, key_dim=projection_dim, dropout=0.1\n",
        "        )(x1, x1)\n",
        "        # Skip connection 1.\n",
        "        x2 = layers.Add()([attention_output, encoded_patches])\n",
        "        # Layer normalization 2.\n",
        "        x3 = layers.LayerNormalization(epsilon=1e-6)(x2)\n",
        "        # MLP.\n",
        "        x3 = mlp(x3, hidden_units=transformer_units, dropout_rate=0.1)\n",
        "        # Skip connection 2.\n",
        "        encoded_patches = layers.Add()([x3, x2])\n",
        "\n",
        "    # Create a [batch_size, projection_dim] tensor.\n",
        "    representation = layers.LayerNormalization(epsilon=1e-6)(encoded_patches)\n",
        "    representation = layers.Flatten()(representation)\n",
        "    representation = layers.Dropout(0.5)(representation)\n",
        "    # Add MLP.\n",
        "    features = mlp(representation, hidden_units=mlp_head_units, dropout_rate=0.5)\n",
        "    # Classify outputs.\n",
        "    logits = layers.Dense(num_classes)(features)\n",
        "    # Create the Keras model.\n",
        "    model = keras.Model(inputs=inputs, outputs=logits)\n",
        "    return model\n"
      ],
      "execution_count": null,
      "outputs": []
    },
    {
      "cell_type": "markdown",
      "metadata": {
        "id": "Wjn6_zDHzj50"
      },
      "source": [
        "## Compile, train, and evaluate the mode"
      ]
    },
    {
      "cell_type": "code",
      "metadata": {
        "id": "YXeC-VJVzj51"
      },
      "source": [
        "\n",
        "def run_experiment(model):\n",
        "    optimizer = tfa.optimizers.AdamW(\n",
        "        learning_rate=learning_rate, weight_decay=weight_decay\n",
        "    )\n",
        "    \n",
        "    model.compile(\n",
        "        optimizer=optimizer,\n",
        "        loss=keras.losses.MeanSquaredError(),\n",
        "        metrics=[\"mse\"       ],\n",
        "    )\n",
        "\n",
        "    checkpoint_filepath = \"/tmp/checkpoint\"\n",
        "    checkpoint_callback = keras.callbacks.ModelCheckpoint(\n",
        "        checkpoint_filepath,\n",
        "        monitor=\"val_mse\",\n",
        "        save_best_only=True,\n",
        "        save_weights_only=True,\n",
        "    )\n",
        "\n",
        "    history = model.fit(\n",
        "        initial_train_dataset,\n",
        "        validation_data = initial_val_dataset,\n",
        "        batch_size=batch_size,\n",
        "        epochs=num_epochs,\n",
        "        callbacks=[checkpoint_callback],\n",
        "    )\n",
        "\n",
        "    model.load_weights(checkpoint_filepath)\n",
        "    _, accuracy, top_5_accuracy = model.evaluate(initial_val_dataset)\n",
        "    print(f\"Test accuracy: {round(accuracy * 100, 2)}%\")\n",
        "    print(f\"Test top 5 accuracy: {round(top_5_accuracy * 100, 2)}%\")\n",
        "\n",
        "    return history\n",
        "\n",
        "\n",
        "vit_classifier = create_vit_classifier()\n",
        "history = run_experiment(vit_classifier)\n"
      ],
      "execution_count": null,
      "outputs": []
    },
    {
      "cell_type": "markdown",
      "metadata": {
        "id": "jfOZLVpXzj52"
      },
      "source": [
        "After 100 epochs, the ViT model achieves around 55% accuracy and\n",
        "82% top-5 accuracy on the test data. These are not competitive results on the CIFAR-100 dataset,\n",
        "as a ResNet50V2 trained from scratch on the same data can achieve 67% accuracy.\n",
        "\n",
        "Note that the state of the art results reported in the\n",
        "[paper](https://arxiv.org/abs/2010.11929) are achieved by pre-training the ViT model using\n",
        "the JFT-300M dataset, then fine-tuning it on the target dataset. To improve the model quality\n",
        "without pre-training, you can try to train the model for more epochs, use a larger number of\n",
        "Transformer layers, resize the input images, change the patch size, or increase the projection dimensions. \n",
        "Besides, as mentioned in the paper, the quality of the model is affected not only by architecture choices, \n",
        "but also by parameters such as the learning rate schedule, optimizer, weight decay, etc.\n",
        "In practice, it's recommended to fine-tune a ViT model\n",
        "that was pre-trained using a large, high-resolution dataset."
      ]
    }
  ]
}